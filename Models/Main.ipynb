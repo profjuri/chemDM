{
 "cells": [
  {
   "cell_type": "code",
   "execution_count": 2,
   "metadata": {},
   "outputs": [],
   "source": [
    "import sys\n",
    "import importlib\n",
    "import torch"
   ]
  },
  {
   "cell_type": "code",
   "execution_count": 3,
   "metadata": {},
   "outputs": [
    {
     "name": "stderr",
     "output_type": "stream",
     "text": [
      "No normalization for SPS. Feature removed!\n",
      "No normalization for AvgIpc. Feature removed!\n",
      "Skipped loading some Tensorflow models, missing a dependency. No module named 'tensorflow'\n",
      "Skipped loading modules with pytorch-geometric dependency, missing a dependency. No module named 'torch_geometric'\n",
      "Skipped loading modules with transformers dependency. No module named 'transformers'\n",
      "cannot import name 'HuggingFaceModel' from 'deepchem.models.torch_models' (/home/cameron/.venv/lib/python3.10/site-packages/deepchem/models/torch_models/__init__.py)\n",
      "Skipped loading modules with pytorch-geometric dependency, missing a dependency. cannot import name 'DMPNN' from 'deepchem.models.torch_models' (/home/cameron/.venv/lib/python3.10/site-packages/deepchem/models/torch_models/__init__.py)\n",
      "Skipped loading modules with pytorch-lightning dependency, missing a dependency. No module named 'lightning'\n",
      "Skipped loading some Jax models, missing a dependency. No module named 'jax'\n",
      "Skipped loading some PyTorch models, missing a dependency. No module named 'tensorflow'\n"
     ]
    }
   ],
   "source": [
    "#importlib.reload(vae)\n",
    "import vae\n",
    "import mlp\n",
    "import bf"
   ]
  },
  {
   "cell_type": "code",
   "execution_count": 3,
   "metadata": {},
   "outputs": [
    {
     "name": "stdout",
     "output_type": "stream",
     "text": [
      "--> Translating SMILES to SELFIES...\n",
      "Finished translating SMILES to SELFIES.\n",
      "start training\n",
      "Time for epoch: 1.1920928955078125e-06\n"
     ]
    },
    {
     "name": "stderr",
     "output_type": "stream",
     "text": [
      "/home/cameron/.venv/lib/python3.10/site-packages/torch/optim/lr_scheduler.py:28: UserWarning: The verbose parameter is deprecated. Please use get_last_lr() to access the learning rate.\n",
      "  warnings.warn(\"The verbose parameter is deprecated. Please use get_last_lr() \"\n"
     ]
    },
    {
     "name": "stdout",
     "output_type": "stream",
     "text": [
      "Time for epoch: 363.79662561416626\n",
      "Time for epoch: 359.64491629600525\n",
      "Time for epoch: 359.8811104297638\n",
      "Time for epoch: 359.64563059806824\n",
      "Time for epoch: 359.8469955921173\n",
      "Time for epoch: 359.75246381759644\n",
      "Time for epoch: 360.3147702217102\n",
      "Time for epoch: 359.65663981437683\n",
      "Time for epoch: 360.3503453731537\n"
     ]
    }
   ],
   "source": [
    "import vae_entropy\n",
    "import importlib\n",
    "importlib.reload(vae_entropy)\n",
    "import torch\n",
    "torch.set_grad_enabled(True)\n",
    "\n",
    "vae_entropy.main()"
   ]
  },
  {
   "cell_type": "code",
   "execution_count": null,
   "metadata": {},
   "outputs": [],
   "source": [
    "'''Modify VAE settings as you wish'''\n",
    "torch.set_grad_enabled(True)\n",
    "\n",
    "vae.main()"
   ]
  },
  {
   "cell_type": "code",
   "execution_count": 11,
   "metadata": {},
   "outputs": [
    {
     "name": "stdout",
     "output_type": "stream",
     "text": [
      "--> Translating SMILES to SELFIES...\n",
      "Finished translating SMILES to SELFIES.\n"
     ]
    },
    {
     "name": "stderr",
     "output_type": "stream",
     "text": [
      "/home/cameron/DM Molecules and ML/Clean_pipeline/Models/mlp.py:197: UserWarning: To copy construct from a tensor, it is recommended to use sourceTensor.clone().detach() or sourceTensor.clone().detach().requires_grad_(True), rather than torch.tensor(sourceTensor).\n",
      "  mask1 = torch.tensor(properties_tensor == 0)\n",
      "/home/cameron/DM Molecules and ML/Clean_pipeline/Models/mlp.py:202: UserWarning: To copy construct from a tensor, it is recommended to use sourceTensor.clone().detach() or sourceTensor.clone().detach().requires_grad_(True), rather than torch.tensor(sourceTensor).\n",
      "  mask3 = (torch.tensor(properties_tensor.isnan()==True)).squeeze()\n",
      "/home/cameron/.venv/lib/python3.10/site-packages/torch/optim/lr_scheduler.py:28: UserWarning: The verbose parameter is deprecated. Please use get_last_lr() to access the learning rate.\n",
      "  warnings.warn(\"The verbose parameter is deprecated. Please use get_last_lr() \"\n"
     ]
    },
    {
     "name": "stdout",
     "output_type": "stream",
     "text": [
      "z mode\n"
     ]
    }
   ],
   "source": [
    "'''Modify MLP settings as you wish'''\n",
    "import importlib\n",
    "importlib.reload(mlp)\n",
    "torch.set_grad_enabled(True)\n",
    "\n",
    "mlp.main()"
   ]
  },
  {
   "cell_type": "code",
   "execution_count": 1,
   "metadata": {},
   "outputs": [
    {
     "name": "stderr",
     "output_type": "stream",
     "text": [
      "No normalization for SPS. Feature removed!\n",
      "No normalization for AvgIpc. Feature removed!\n",
      "Skipped loading some Tensorflow models, missing a dependency. No module named 'tensorflow'\n",
      "Skipped loading modules with pytorch-geometric dependency, missing a dependency. No module named 'torch_geometric'\n",
      "Skipped loading modules with transformers dependency. No module named 'transformers'\n",
      "cannot import name 'HuggingFaceModel' from 'deepchem.models.torch_models' (/home/cameron/.venv/lib/python3.10/site-packages/deepchem/models/torch_models/__init__.py)\n",
      "Skipped loading modules with pytorch-geometric dependency, missing a dependency. cannot import name 'DMPNN' from 'deepchem.models.torch_models' (/home/cameron/.venv/lib/python3.10/site-packages/deepchem/models/torch_models/__init__.py)\n",
      "Skipped loading modules with pytorch-lightning dependency, missing a dependency. No module named 'lightning'\n",
      "Skipped loading some Jax models, missing a dependency. No module named 'jax'\n",
      "Skipped loading some PyTorch models, missing a dependency. No module named 'tensorflow'\n"
     ]
    },
    {
     "name": "stdout",
     "output_type": "stream",
     "text": [
      "--> Translating SMILES to SELFIES...\n",
      "Finished translating SMILES to SELFIES.\n",
      "Starting SMILES index: 8448\n",
      "SMILES: 8500 / 8817 Time taken: 1057.3617496490479\n"
     ]
    }
   ],
   "source": [
    "import seed_generation\n",
    "import functions\n",
    "import functions_sub\n",
    "import torch\n",
    "import importlib\n",
    "import yaml\n",
    "importlib.reload(seed_generation)\n",
    "importlib.reload(functions)\n",
    "importlib.reload(functions_sub)\n",
    "torch.set_grad_enabled(False)\n",
    "\n",
    "seed_generation.main()"
   ]
  },
  {
   "cell_type": "code",
   "execution_count": 1,
   "metadata": {},
   "outputs": [
    {
     "name": "stderr",
     "output_type": "stream",
     "text": [
      "No normalization for SPS. Feature removed!\n",
      "No normalization for AvgIpc. Feature removed!\n",
      "Skipped loading some Tensorflow models, missing a dependency. No module named 'tensorflow'\n",
      "Skipped loading modules with pytorch-geometric dependency, missing a dependency. No module named 'torch_geometric'\n",
      "Skipped loading modules with transformers dependency. No module named 'transformers'\n",
      "cannot import name 'HuggingFaceModel' from 'deepchem.models.torch_models' (/home/cameron/.venv/lib/python3.10/site-packages/deepchem/models/torch_models/__init__.py)\n",
      "Skipped loading modules with pytorch-geometric dependency, missing a dependency. cannot import name 'DMPNN' from 'deepchem.models.torch_models' (/home/cameron/.venv/lib/python3.10/site-packages/deepchem/models/torch_models/__init__.py)\n",
      "Skipped loading modules with pytorch-lightning dependency, missing a dependency. No module named 'lightning'\n",
      "Skipped loading some Jax models, missing a dependency. No module named 'jax'\n",
      "Skipped loading some PyTorch models, missing a dependency. No module named 'tensorflow'\n"
     ]
    },
    {
     "name": "stdout",
     "output_type": "stream",
     "text": [
      "Batch iteration: 0 / 27\n",
      "LEN df_sanitised 131072\n",
      "Len of DF: 2749\n",
      "Len of DF: 20380\n",
      "Batch iteration: 1 / 27\n",
      "LEN df_sanitised 131072\n",
      "Len of DF: 2863\n",
      "Len of DF: 20724\n",
      "Batch iteration: 2 / 27\n",
      "LEN df_sanitised 131072\n",
      "Len of DF: 2716\n",
      "Len of DF: 18798\n",
      "Batch iteration: 3 / 27\n",
      "LEN df_sanitised 131072\n",
      "Len of DF: 2367\n",
      "Len of DF: 18276\n",
      "Batch iteration: 4 / 27\n",
      "LEN df_sanitised 131072\n",
      "Len of DF: 2893\n",
      "Len of DF: 21249\n",
      "Batch iteration: 5 / 27\n",
      "LEN df_sanitised 131072\n",
      "Len of DF: 3104\n",
      "Len of DF: 17472\n",
      "Batch iteration: 6 / 27\n",
      "LEN df_sanitised 131072\n",
      "Len of DF: 3081\n",
      "Len of DF: 19232\n",
      "Batch iteration: 7 / 27\n",
      "LEN df_sanitised 131072\n",
      "Len of DF: 3609\n",
      "Len of DF: 20768\n",
      "Batch iteration: 8 / 27\n",
      "LEN df_sanitised 131072\n",
      "Len of DF: 3609\n",
      "Len of DF: 19547\n",
      "Batch iteration: 9 / 27\n",
      "LEN df_sanitised 131072\n",
      "Len of DF: 2836\n",
      "Len of DF: 17402\n",
      "Batch iteration: 10 / 27\n",
      "LEN df_sanitised 131072\n",
      "Len of DF: 3123\n",
      "Len of DF: 20656\n",
      "Batch iteration: 11 / 27\n",
      "LEN df_sanitised 131072\n",
      "Len of DF: 2689\n",
      "Len of DF: 17093\n",
      "Batch iteration: 12 / 27\n",
      "LEN df_sanitised 131072\n",
      "Len of DF: 3219\n",
      "Len of DF: 20379\n",
      "Batch iteration: 13 / 27\n",
      "LEN df_sanitised 131072\n",
      "Len of DF: 3747\n",
      "Len of DF: 19603\n",
      "Batch iteration: 14 / 27\n",
      "LEN df_sanitised 131072\n",
      "Len of DF: 3175\n",
      "Len of DF: 18599\n",
      "Batch iteration: 15 / 27\n",
      "LEN df_sanitised 131072\n",
      "Len of DF: 2690\n",
      "Len of DF: 18409\n",
      "Batch iteration: 16 / 27\n",
      "LEN df_sanitised 131072\n",
      "Len of DF: 3907\n",
      "Len of DF: 20798\n",
      "Batch iteration: 17 / 27\n",
      "LEN df_sanitised 131072\n",
      "Len of DF: 2273\n",
      "Len of DF: 19017\n",
      "Batch iteration: 18 / 27\n",
      "LEN df_sanitised 131072\n",
      "Len of DF: 2341\n",
      "Len of DF: 17367\n",
      "Batch iteration: 19 / 27\n",
      "LEN df_sanitised 131072\n",
      "Len of DF: 2666\n",
      "Len of DF: 18830\n",
      "Batch iteration: 20 / 27\n",
      "LEN df_sanitised 131072\n",
      "Len of DF: 4247\n",
      "Len of DF: 22630\n",
      "Batch iteration: 21 / 27\n",
      "LEN df_sanitised 131072\n",
      "Len of DF: 2429\n",
      "Len of DF: 19684\n",
      "Batch iteration: 22 / 27\n",
      "LEN df_sanitised 131072\n",
      "Len of DF: 2585\n",
      "Len of DF: 19551\n",
      "Batch iteration: 23 / 27\n",
      "LEN df_sanitised 131072\n",
      "Len of DF: 2307\n",
      "Len of DF: 18243\n",
      "Batch iteration: 24 / 27\n",
      "LEN df_sanitised 131072\n",
      "Len of DF: 4054\n",
      "Len of DF: 22134\n",
      "Batch iteration: 25 / 27\n",
      "LEN df_sanitised 131072\n",
      "Len of DF: 4125\n",
      "Len of DF: 20171\n",
      "Batch iteration: 26 / 27\n",
      "LEN df_sanitised 102087\n",
      "Len of DF: 1768\n",
      "Len of DF: 13843\n",
      "Complete\n"
     ]
    }
   ],
   "source": [
    "import seed_generation\n",
    "import functions\n",
    "import functions_sub\n",
    "import torch\n",
    "import importlib\n",
    "import yaml\n",
    "importlib.reload(seed_generation)\n",
    "importlib.reload(functions)\n",
    "importlib.reload(functions_sub)\n",
    "torch.set_grad_enabled(False)\n",
    "\n",
    "settings = yaml.safe_load(open(\"bf_settings.yml\", \"r\"))\n",
    "\n",
    "\n",
    "seed_generation.NETWORK_B(settings)"
   ]
  },
  {
   "cell_type": "code",
   "execution_count": 14,
   "metadata": {},
   "outputs": [],
   "source": [
    "import pandas as pd\n",
    "\n",
    "df = pd.read_csv('../Outputs/BF/EXPERIMENTAL_SEEDS1/ideal_mols.csv')"
   ]
  },
  {
   "cell_type": "code",
   "execution_count": 43,
   "metadata": {},
   "outputs": [
    {
     "data": {
      "text/html": [
       "<div>\n",
       "<style scoped>\n",
       "    .dataframe tbody tr th:only-of-type {\n",
       "        vertical-align: middle;\n",
       "    }\n",
       "\n",
       "    .dataframe tbody tr th {\n",
       "        vertical-align: top;\n",
       "    }\n",
       "\n",
       "    .dataframe thead th {\n",
       "        text-align: right;\n",
       "    }\n",
       "</style>\n",
       "<table border=\"1\" class=\"dataframe\">\n",
       "  <thead>\n",
       "    <tr style=\"text-align: right;\">\n",
       "      <th></th>\n",
       "      <th>canon_smiles</th>\n",
       "      <th>OscillatorStrength1</th>\n",
       "      <th>TransitionEnergies1</th>\n",
       "      <th>smiles_index</th>\n",
       "      <th>SAS</th>\n",
       "    </tr>\n",
       "  </thead>\n",
       "  <tbody>\n",
       "    <tr>\n",
       "      <th>23375</th>\n",
       "      <td>C=C=C=C=C=C=C=C=C=C=C=C=C=C=C=C=C=C=C=C=C=C=C=...</td>\n",
       "      <td>1.944054</td>\n",
       "      <td>0.220984</td>\n",
       "      <td>2460</td>\n",
       "      <td>2.295711</td>\n",
       "    </tr>\n",
       "    <tr>\n",
       "      <th>41557</th>\n",
       "      <td>C=C=C=C=C=C=C=C=C=C=C=C=C=C=C=C=C=C=C=C=C=C=C=...</td>\n",
       "      <td>2.154387</td>\n",
       "      <td>0.316805</td>\n",
       "      <td>4213</td>\n",
       "      <td>2.549991</td>\n",
       "    </tr>\n",
       "    <tr>\n",
       "      <th>72524</th>\n",
       "      <td>C=C1C=Cc2ccc3ccccc3c2C=C1C=CC=CC=CC=CC=CC=C1C=...</td>\n",
       "      <td>4.896163</td>\n",
       "      <td>0.984325</td>\n",
       "      <td>7857</td>\n",
       "      <td>3.840611</td>\n",
       "    </tr>\n",
       "  </tbody>\n",
       "</table>\n",
       "</div>"
      ],
      "text/plain": [
       "                                            canon_smiles  OscillatorStrength1  \\\n",
       "23375  C=C=C=C=C=C=C=C=C=C=C=C=C=C=C=C=C=C=C=C=C=C=C=...             1.944054   \n",
       "41557  C=C=C=C=C=C=C=C=C=C=C=C=C=C=C=C=C=C=C=C=C=C=C=...             2.154387   \n",
       "72524  C=C1C=Cc2ccc3ccccc3c2C=C1C=CC=CC=CC=CC=CC=C1C=...             4.896163   \n",
       "\n",
       "       TransitionEnergies1  smiles_index       SAS  \n",
       "23375             0.220984          2460  2.295711  \n",
       "41557             0.316805          4213  2.549991  \n",
       "72524             0.984325          7857  3.840611  "
      ]
     },
     "execution_count": 43,
     "metadata": {},
     "output_type": "execute_result"
    }
   ],
   "source": [
    "df2 = df[df['TransitionEnergies1']<1]\n",
    "df3 = df2[df2['OscillatorStrength1']<5]\n",
    "\n",
    "df3"
   ]
  },
  {
   "cell_type": "code",
   "execution_count": 40,
   "metadata": {},
   "outputs": [
    {
     "data": {
      "text/html": [
       "<div>\n",
       "<style scoped>\n",
       "    .dataframe tbody tr th:only-of-type {\n",
       "        vertical-align: middle;\n",
       "    }\n",
       "\n",
       "    .dataframe tbody tr th {\n",
       "        vertical-align: top;\n",
       "    }\n",
       "\n",
       "    .dataframe thead th {\n",
       "        text-align: right;\n",
       "    }\n",
       "</style>\n",
       "<table border=\"1\" class=\"dataframe\">\n",
       "  <thead>\n",
       "    <tr style=\"text-align: right;\">\n",
       "      <th></th>\n",
       "      <th>canon_smiles</th>\n",
       "      <th>OscillatorStrength1</th>\n",
       "      <th>TransitionEnergies1</th>\n",
       "      <th>smiles_index</th>\n",
       "      <th>SAS</th>\n",
       "    </tr>\n",
       "  </thead>\n",
       "  <tbody>\n",
       "    <tr>\n",
       "      <th>23375</th>\n",
       "      <td>C=C=C=C=C=C=C=C=C=C=C=C=C=C=C=C=C=C=C=C=C=C=C=...</td>\n",
       "      <td>1.944054</td>\n",
       "      <td>0.220984</td>\n",
       "      <td>2460</td>\n",
       "      <td>2.295711</td>\n",
       "    </tr>\n",
       "    <tr>\n",
       "      <th>41557</th>\n",
       "      <td>C=C=C=C=C=C=C=C=C=C=C=C=C=C=C=C=C=C=C=C=C=C=C=...</td>\n",
       "      <td>2.154387</td>\n",
       "      <td>0.316805</td>\n",
       "      <td>4213</td>\n",
       "      <td>2.549991</td>\n",
       "    </tr>\n",
       "    <tr>\n",
       "      <th>72524</th>\n",
       "      <td>C=C1C=Cc2ccc3ccccc3c2C=C1C=CC=CC=CC=CC=CC=C1C=...</td>\n",
       "      <td>4.896163</td>\n",
       "      <td>0.984325</td>\n",
       "      <td>7857</td>\n",
       "      <td>3.840611</td>\n",
       "    </tr>\n",
       "  </tbody>\n",
       "</table>\n",
       "</div>"
      ],
      "text/plain": [
       "                                            canon_smiles  OscillatorStrength1  \\\n",
       "23375  C=C=C=C=C=C=C=C=C=C=C=C=C=C=C=C=C=C=C=C=C=C=C=...             1.944054   \n",
       "41557  C=C=C=C=C=C=C=C=C=C=C=C=C=C=C=C=C=C=C=C=C=C=C=...             2.154387   \n",
       "72524  C=C1C=Cc2ccc3ccccc3c2C=C1C=CC=CC=CC=CC=CC=C1C=...             4.896163   \n",
       "\n",
       "       TransitionEnergies1  smiles_index       SAS  \n",
       "23375             0.220984          2460  2.295711  \n",
       "41557             0.316805          4213  2.549991  \n",
       "72524             0.984325          7857  3.840611  "
      ]
     },
     "execution_count": 40,
     "metadata": {},
     "output_type": "execute_result"
    }
   ],
   "source": [
    "df2 = df[df['OscillatorStrength1']>0.05]\n",
    "df3 = df2[df2['OscillatorStrength1']<5]\n",
    "\n",
    "df4 = df3[df3['TransitionEnergies1']<1]\n",
    "\n",
    "df4"
   ]
  },
  {
   "cell_type": "code",
   "execution_count": 36,
   "metadata": {},
   "outputs": [
    {
     "data": {
      "text/plain": [
       "'C=C=C=C=C=C=C=C=C=C=C=C=C=C=C=C=C=C=C=C=C=C=C=C=C=C=C=C=C=C=C=C=C=C=C=C=C=C=C=C=C=C=C=C=C=C=C=CC=NC1=C2CC=CC=CC=CC=CC1=CC(=C)C2C'"
      ]
     },
     "execution_count": 36,
     "metadata": {},
     "output_type": "execute_result"
    }
   ],
   "source": [
    "df.iloc[23375]['canon_smiles']"
   ]
  },
  {
   "cell_type": "code",
   "execution_count": 34,
   "metadata": {},
   "outputs": [
    {
     "data": {
      "image/jpeg": "[encoded data removed]",
      "image/png": "[encoded data removed]",
      "text/plain": [
       "<PIL.PngImagePlugin.PngImageFile image mode=RGB size=300x300>"
      ]
     },
     "execution_count": 34,
     "metadata": {},
     "output_type": "execute_result"
    }
   ],
   "source": [
    "from rdkit import Chem\n",
    "m = Chem.MolFromSmiles('C=C=C=C=C=C=C=C=C=C=C=C=C=C=C=C=C=C=C=C=C=C=C=C=C=C=C=C=C=C=C=C=C=C=C=C=C=C=C=C=C=C=C=C=C=CC1=CC=CC=NC2=Cc3cc(c(C4=CC=CNC4)c1c3)C2')\n",
    "from rdkit.Chem import Draw\n",
    "img = Draw.MolToImage(m)\n",
    "img"
   ]
  }
 ],
 "metadata": {
  "kernelspec": {
   "display_name": ".venv",
   "language": "python",
   "name": "python3"
  },
  "language_info": {
   "codemirror_mode": {
    "name": "ipython",
    "version": 3
   },
   "file_extension": ".py",
   "mimetype": "text/x-python",
   "name": "python",
   "nbconvert_exporter": "python",
   "pygments_lexer": "ipython3",
   "version": "3.10.12"
  }
 },
 "nbformat": 4,
 "nbformat_minor": 2
}
