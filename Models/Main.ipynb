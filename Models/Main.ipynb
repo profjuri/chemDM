{
 "cells": [
  {
   "cell_type": "code",
   "execution_count": null,
   "metadata": {},
   "outputs": [],
   "source": [
    "import torch\n",
    "import importlib\n",
    "\n",
    "import vae\n",
    "import mlp\n",
    "import bf\n"
   ]
  },
  {
   "cell_type": "code",
   "execution_count": null,
   "metadata": {},
   "outputs": [],
   "source": [
    "'''Modify VAE settings as you wish'''\n",
    "\n",
    "importlib.reload(vae)\n",
    "torch.set_grad_enabled(True)\n",
    "\n",
    "vae.main()"
   ]
  },
  {
   "cell_type": "code",
   "execution_count": null,
   "metadata": {},
   "outputs": [],
   "source": [
    "'''Modify MLP settings as you wish'''\n",
    "\n",
    "importlib.reload(mlp)\n",
    "torch.set_grad_enabled(True)\n",
    "\n",
    "mlp.main()"
   ]
  },
  {
   "cell_type": "code",
   "execution_count": null,
   "metadata": {},
   "outputs": [],
   "source": [
    "'''Modify BF settings as you wish'''\n",
    "\n",
    "importlib.reload(bf)\n",
    "torch.set_grad_enabled(False)\n",
    "\n",
    "bf.main()"
   ]
  }
 ],
 "metadata": {
  "kernelspec": {
   "display_name": ".venv",
   "language": "python",
   "name": "python3"
  },
  "language_info": {
   "codemirror_mode": {
    "name": "ipython",
    "version": 3
   },
   "file_extension": ".py",
   "mimetype": "text/x-python",
   "name": "python",
   "nbconvert_exporter": "python",
   "pygments_lexer": "ipython3",
   "version": "3.10.12"
  }
 },
 "nbformat": 4,
 "nbformat_minor": 2
}
