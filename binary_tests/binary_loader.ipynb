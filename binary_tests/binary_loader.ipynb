{
 "cells": [
  {
   "cell_type": "code",
   "execution_count": 1,
   "metadata": {},
   "outputs": [],
   "source": [
    "import numpy as np\n",
    "import math\n",
    "import itertools\n",
    "import binary_loader\n",
    "import torch\n",
    "import chemistry_vae_selfies"
   ]
  },
  {
   "cell_type": "code",
   "execution_count": 2,
   "metadata": {},
   "outputs": [
    {
     "name": "stdout",
     "output_type": "stream",
     "text": [
      "--> Translating SMILES to SELFIES...\n",
      "Finished translating SMILES to SELFIES.\n",
      "selfies aplhabet: ['[Ring2]', '[N]', '[Branch2]', '[#Branch2]', '[F]', '[Branch1]', '[=N]', '[C]', '[#C]', '[=O]', '[Ring1]', '[=C]', '[O]', '[=Branch1]', '[=Branch2]', '[#N]', '[nop]', '[#Branch1]']\n",
      "smiles aplhabet: ['#', 'O', '1', '(', ')', '=', 'N', 'F', '5', 'C', '4', '2', '3', ' ']\n"
     ]
    }
   ],
   "source": [
    "# here we want to read in data and tranform them into one_hot\n",
    "device = torch.device(\"cuda\" if torch.cuda.is_available() else \"cpu\")\n",
    "\n",
    "folder_path = \"./datasets/\"\n",
    "file_name = \"SelectedSMILES_QM9.txt\"\n",
    "\n",
    "full_path = folder_path + file_name\n",
    "\n",
    "selfies_list, selfies_alphabet, largest_selfies_len, smiles_list, smiles_alphabet, largest_smiles_len = chemistry_vae_selfies.get_selfie_and_smiles_encodings_for_dataset(full_path)"
   ]
  },
  {
   "cell_type": "code",
   "execution_count": 3,
   "metadata": {},
   "outputs": [],
   "source": [
    "binary, char_list = binary_loader.smiles_to_binary(selfies_list)"
   ]
  },
  {
   "cell_type": "code",
   "execution_count": 4,
   "metadata": {},
   "outputs": [
    {
     "name": "stdout",
     "output_type": "stream",
     "text": [
      "0010001101011000010001101011000010001101011000010001101011000010001010100000000000001000110011101110010000110000100011010110000100010100010101100001000010101100001000110101100\n"
     ]
    }
   ],
   "source": [
    "print(binary[1500])"
   ]
  },
  {
   "cell_type": "code",
   "execution_count": 5,
   "metadata": {},
   "outputs": [
    {
     "name": "stdout",
     "output_type": "stream",
     "text": [
      "[O][C][C][O][C][C][C][N][Ring1][Ring1]\n"
     ]
    }
   ],
   "source": [
    "print(selfies_list[15000])"
   ]
  },
  {
   "cell_type": "code",
   "execution_count": 11,
   "metadata": {},
   "outputs": [
    {
     "name": "stdout",
     "output_type": "stream",
     "text": [
      "19\n",
      "18\n"
     ]
    }
   ],
   "source": [
    "print(len(char_list))\n",
    "print(len(selfies_alphabet))"
   ]
  },
  {
   "cell_type": "code",
   "execution_count": 7,
   "metadata": {},
   "outputs": [],
   "source": [
    "og = binary_loader.binary_to_smiles(binary, char_list)"
   ]
  },
  {
   "cell_type": "code",
   "execution_count": 8,
   "metadata": {},
   "outputs": [
    {
     "name": "stdout",
     "output_type": "stream",
     "text": [
      "[O][C][C][O][C][C][C][N][Ring1][Ring1]\n"
     ]
    }
   ],
   "source": [
    "print(selfies_list[15000])"
   ]
  },
  {
   "cell_type": "code",
   "execution_count": 9,
   "metadata": {},
   "outputs": [
    {
     "name": "stdout",
     "output_type": "stream",
     "text": [
      "[O][C][C][O][C][C][C][N][Ring1][Ring1]\n"
     ]
    }
   ],
   "source": [
    "print(og[15000])"
   ]
  }
 ],
 "metadata": {
  "kernelspec": {
   "display_name": ".venv",
   "language": "python",
   "name": "python3"
  },
  "language_info": {
   "codemirror_mode": {
    "name": "ipython",
    "version": 3
   },
   "file_extension": ".py",
   "mimetype": "text/x-python",
   "name": "python",
   "nbconvert_exporter": "python",
   "pygments_lexer": "ipython3",
   "version": "3.6.8"
  },
  "orig_nbformat": 4
 },
 "nbformat": 4,
 "nbformat_minor": 2
}
