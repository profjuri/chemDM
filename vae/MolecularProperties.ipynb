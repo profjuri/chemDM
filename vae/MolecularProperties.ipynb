{
 "cells": [
  {
   "cell_type": "code",
   "execution_count": 1,
   "metadata": {},
   "outputs": [],
   "source": [
    "# import stand alone packages\n",
    "import torch\n",
    "import importlib\n",
    "import yaml\n",
    "import pandas as pd\n",
    "import numpy as np\n",
    "import torch.distributions as dist\n",
    "import matplotlib.pyplot as plt\n",
    "import networkx as nx\n",
    "from pysmiles import read_smiles\n",
    "from rdkit import Chem\n",
    "from rdkit.Chem import rdFingerprintGenerator\n",
    "from rdkit import DataStructs\n",
    "import importlib\n",
    "import selfies\n",
    "import torch.nn.functional as TorchF\n",
    "import sys\n",
    "import auxiliary_functions\n",
    "\n",
    "# import our own functins\n",
    "import data_loader\n",
    "import chemistry_vae_symmetric_rnn_final\n",
    "\n",
    "sys.path.insert(0, '../mlp/')\n",
    "\n",
    "import properties_searcher_2\n",
    "\n"
   ]
  },
  {
   "cell_type": "markdown",
   "metadata": {},
   "source": [
    "*Pipeline steps:*\n",
    "\n",
    "*VAE:* \n",
    "\n",
    "The first step is to simply train a VAE. Ideal hyperparameters are already set up in the 'selfies_rnn.yml' file. The functions within the VAE are fairly generic, i.e., save models, save scores, etc. The VAE is fed datasets in SMILES form, after which it converts the dataset to SELFIES. There is an option to use SMILES however this is redundant and will be removed in the quality of life stuff.\n",
    "\n",
    "The VAE saves a model every 50 epochs, you should be able to generate a good model after that many epochs. \n",
    "\n",
    "Some stuff that needs adding:\n",
    "\n",
    " - Removal of the SMILES function.\n",
    " - Addition of a strong validation function for the validation set in the VAE.\n",
    " - Usage of randomiser seeds so that the validation sets in the VAE and QM9 are the same.\n",
    " - Function that saves the alphabet in a readable form for the MLP, this would save us having to type it into the settings of the MLP every time.\n",
    "\n",
    "*MLP:*\n",
    "\n",
    "The settings within the perceptron are slightly more confusing. Since the VAE randomises the input dataset, the alphabets are inconsistent and so we have to specifiy the alphabet of the VAE every time. The MLP has generic functions, similar to the VAE. \n",
    "\n",
    "\n",
    "*Analysis:*\n",
    "\n",
    "Our analysis for QM9 involves looking at the validation dataset and seeing if the perceptron is capable of predicting the HOMO-LUMO gaps. I.e., whether the perceptron can figure out the HOMO-LUMO gaps of data unseen by the VAE. \n",
    "\n",
    "Furthermore, in this notebook. All of the non-generic functions will be displayed.\n",
    "\n",
    "Ultimately, we should have a plot that demonstrates how good the perceptron is at predicting the HOMO-LUMO gaps for unseen molecules. This would be analagous to generating some new latent vectors defined by the latent space. However, since QM9 is complete, we cannot really generate any new molecules, hence the benchmark nature of the paper.\n",
    "\n",
    "*Check for long:*\n",
    "\n",
    "The check for long file is a mess. But it is basically what we use to generate our benchmarks, it will be cleaned up over the coming week so it is readable"
   ]
  },
  {
   "cell_type": "code",
   "execution_count": 2,
   "metadata": {},
   "outputs": [],
   "source": [
    "# in order to train the RNN vae run\n",
    "# chemistry_vae_symmetric_rnn_final.main()"
   ]
  },
  {
   "cell_type": "code",
   "execution_count": 3,
   "metadata": {},
   "outputs": [
    {
     "name": "stdout",
     "output_type": "stream",
     "text": [
      "{'H': 1, 'F': 1, 'Cl': 1, 'Br': 1, 'I': 1, 'B': 3, 'B+1': 2, 'B-1': 4, 'O': 2, 'O+1': 3, 'O-1': 1, 'N': 3, 'N+1': 4, 'N-1': 2, 'C': 4, 'C+1': 5, 'C-1': 3, 'P': 5, 'P+1': 6, 'P-1': 4, 'S': 6, 'S+1': 7, 'S-1': 5, '?': 8}\n",
      "                  smiles  energy_gap\n",
      "0       N#CC1NC11C2CC1C2      0.2818\n",
      "1         OC1=NON=C1OC=O      0.2271\n",
      "2        CC12CCC1CN1CC21      0.3036\n",
      "3        CN=C1OC(=O)CC1N      0.2451\n",
      "4         CC(CO)C(CO)C#N      0.3048\n",
      "...                  ...         ...\n",
      "130687  CC1CC2(OCC12)C#C      0.2649\n",
      "130688  CC(=O)C12CCC1CO2      0.2115\n",
      "130689  CC1(CNC1=O)C1CN1      0.2719\n",
      "130690  CC1=NC2C3CC2C3O1      0.2617\n",
      "130691   CCN1C=C(O)N=C1C      0.2227\n",
      "\n",
      "[130692 rows x 2 columns]\n",
      "--> Translating SMILES to SELFIES...\n",
      "27\n",
      "Finished translating SMILES to SELFIES.\n"
     ]
    }
   ],
   "source": [
    "# here we want to read in data and tranform them into one_hot\n",
    "device = torch.device(\"cuda\" if torch.cuda.is_available() else \"cpu\")\n",
    "\n",
    "qm9_path = \"../datasets/filtered_qm9_energies.csv\"\n",
    "\n",
    "selfies_list, selfies_alphabet, largest_selfies_len, smiles_list, smiles_alphabet, largest_smiles_len = chemistry_vae_symmetric_rnn_final.get_selfie_and_smiles_encodings_for_dataset(qm9_path)"
   ]
  },
  {
   "cell_type": "code",
   "execution_count": 4,
   "metadata": {},
   "outputs": [],
   "source": [
    "# load the trained vae models to encode and decode latent space vectors \n",
    "\n",
    "file_to_load =  \"../example_models/100stack_size1neurons_num2048_l_dim64num_count1/\"\n",
    "training_file_nameE = \"250/E\"\n",
    "training_file_nameD = \"250/D\"\n",
    "\n",
    "largest_selfies_len_dataset = largest_selfies_len\n",
    "largest_smiles_len_dataset = largest_smiles_len\n",
    "\n",
    "#in_dimension = len(selfies_alphabet)*largest_selfies_len\n",
    "in_dimension = len(smiles_alphabet)*largest_smiles_len\n",
    "\n",
    "\n",
    "# load the trained encoder\n",
    "vae_encoder = torch.load(file_to_load + training_file_nameE, map_location=torch.device('cpu'))\n",
    "#print(vae_encoder)\n",
    "\n",
    "# load the trained decoder\n",
    "vae_decoder = torch.load(file_to_load + training_file_nameD , map_location=torch.device(device=\"cpu\"))\n",
    "#print(vae_decoder)"
   ]
  },
  {
   "cell_type": "code",
   "execution_count": 5,
   "metadata": {},
   "outputs": [],
   "source": [
    "# this alphabet was used in training \n",
    "selfies_alphabet = [\n",
    "    \"[nop]\",\n",
    "    \"[N-1]\",\n",
    "    \"[Ring1]\",\n",
    "    \"[=Branch2]\",\n",
    "    \"[Branch1]\",\n",
    "    \"[=O]\",\n",
    "    \"[C]\",\n",
    "    \"[CH1-1]\",\n",
    "    \"[=C]\",\n",
    "    \"[C-1]\",\n",
    "    \"[NH2+1]\",\n",
    "    \"[=NH2+1]\",\n",
    "    \"[O]\",\n",
    "    \"[NH3+1]\",\n",
    "    \"[Branch2]\",\n",
    "    \"[#Branch1]\",\n",
    "    \"[#Branch2]\",\n",
    "    \"[N]\",\n",
    "    \"[NH1+1]\",\n",
    "    \"[O-1]\",\n",
    "    \"[#N]\",\n",
    "    \"[=NH1+1]\",\n",
    "    \"[Ring2]\",\n",
    "    \"[F]\",\n",
    "    \"[=N]\",\n",
    "    \"[=Branch1]\",\n",
    "    \"[#C]\"\n",
    "]"
   ]
  },
  {
   "cell_type": "markdown",
   "metadata": {},
   "source": [
    "***VAE USAGE:***"
   ]
  },
  {
   "cell_type": "code",
   "execution_count": 6,
   "metadata": {},
   "outputs": [
    {
     "data": {
      "text/plain": [
       "<module 'auxiliary_functions' from '../vae/auxiliary_functions.py'>"
      ]
     },
     "execution_count": 6,
     "metadata": {},
     "output_type": "execute_result"
    }
   ],
   "source": [
    "importlib.reload(auxiliary_functions)"
   ]
  },
  {
   "cell_type": "code",
   "execution_count": 7,
   "metadata": {},
   "outputs": [],
   "source": [
    "###Step 0: Decide what data you want to analyse\n",
    "\n",
    "# 1. For just one SELFIE:\n",
    "selfie_input = [selfies_list[0]] ### Choose the SELFIE you want\n",
    "\n",
    "# 2. For all/multiple SELFIES:\n",
    "\n",
    "#selfie_input = selfie_list[:1000]\n"
   ]
  },
  {
   "cell_type": "code",
   "execution_count": 8,
   "metadata": {},
   "outputs": [],
   "source": [
    "###Step 1: Generate the one hot representations of your input/s.\n",
    "\n",
    "data = auxiliary_functions.multiple_selfies_to_onehot(selfie_input, largest_selfies_len, selfies_alphabet)\n",
    "data = torch.tensor(data, dtype=torch.float).to(device)"
   ]
  },
  {
   "cell_type": "code",
   "execution_count": 9,
   "metadata": {},
   "outputs": [],
   "source": [
    "###Step 2: Generate the latent vectors\n",
    "\n",
    "mus = auxiliary_functions.gen_latent_vectors(vae_encoder, data)"
   ]
  },
  {
   "cell_type": "code",
   "execution_count": 10,
   "metadata": {},
   "outputs": [],
   "source": [
    "###Step 3: Decode the latent vectors\n",
    "\n",
    "# The outputs will all be in SMILES\n",
    "\n",
    "# 1. For a single latent point:\n",
    "\n",
    "final_smiles_list = auxiliary_functions.decode_single_lpoint(vae_decoder, data.shape[1], mus, selfies_alphabet, device)\n",
    "\n",
    "# 2. For all/multiple latent points:\n",
    "\n",
    "#final_smiles_list = auxiliary_functions.decode_lpoint(vae_decoder, data.shape[1], mus, selfies_alphabet, device)"
   ]
  },
  {
   "cell_type": "markdown",
   "metadata": {},
   "source": [
    "*Example usage:*\n",
    "\n",
    "cinnamon"
   ]
  },
  {
   "cell_type": "code",
   "execution_count": 11,
   "metadata": {},
   "outputs": [
    {
     "name": "stdout",
     "output_type": "stream",
     "text": [
      "Visual of the chemical itself:\n"
     ]
    },
    {
     "data": {
      "image/png": "[encoded data removed]",
      "text/plain": [
       "<rdkit.Chem.rdchem.Mol at 0x7f3de0738a80>"
      ]
     },
     "metadata": {},
     "output_type": "display_data"
    }
   ],
   "source": [
    "###Step 1: Input your SMILES molecule and convert to a SELFIES\n",
    "\n",
    "smiles_input = 'C1=CC=C(C=C1)C=CC=O'\n",
    "\n",
    "selfie_cinnamon = [selfies.encoder(smiles_input)]\n",
    "\n",
    "molToDraw= Chem.MolFromSmiles(smiles_input)\n",
    "\n",
    "print('Visual of the chemical itself:')\n",
    "display(molToDraw)"
   ]
  },
  {
   "cell_type": "code",
   "execution_count": 12,
   "metadata": {},
   "outputs": [],
   "source": [
    "###Step 2: Convert the molecule to a one hot representation:\n",
    "\n",
    "data_cinnamon = auxiliary_functions.multiple_selfies_to_onehot(selfie_cinnamon, largest_selfies_len, selfies_alphabet)\n",
    "data_cinnamon = torch.tensor(data_cinnamon, dtype=torch.float).to(device)"
   ]
  },
  {
   "cell_type": "code",
   "execution_count": 13,
   "metadata": {},
   "outputs": [],
   "source": [
    "###Step 3: Convert the one hot representation to a latent vector:\n",
    "\n",
    "cinnamon_lpoint  = auxiliary_functions.gen_latent_vectors(vae_encoder, data_cinnamon)"
   ]
  },
  {
   "cell_type": "code",
   "execution_count": 14,
   "metadata": {},
   "outputs": [],
   "source": [
    "###Step 4: Decode the cinnamon latent vector\n",
    "\n",
    "cinnamon_smiles = auxiliary_functions.decode_single_lpoint(vae_decoder, data.shape[1], mus, selfies_alphabet, device)"
   ]
  },
  {
   "cell_type": "code",
   "execution_count": 15,
   "metadata": {},
   "outputs": [
    {
     "name": "stdout",
     "output_type": "stream",
     "text": [
      "cinnamon input: C1=CC=C(C=C1)C=CC=O cinnamon recreation: N#CC1NC12C3CC2C3\n"
     ]
    }
   ],
   "source": [
    "print('cinnamon input:', smiles_input, 'cinnamon recreation:', cinnamon_smiles[0])"
   ]
  },
  {
   "cell_type": "markdown",
   "metadata": {},
   "source": [
    "***MLP:***"
   ]
  },
  {
   "cell_type": "code",
   "execution_count": 32,
   "metadata": {},
   "outputs": [],
   "source": [
    "# validate perceptron model\n",
    "mlp = torch.load('../example_models/mlp/0.9105536752248934', map_location = \"cpu\")"
   ]
  },
  {
   "cell_type": "markdown",
   "metadata": {},
   "source": [
    "**Plotting the mean relative errors:**\n",
    "\n",
    "*Note:*\n",
    "\n",
    "This example will use the first 10,000 molecules in the dataset. I believe all of these molecules are ones that the MLP has actually trained on so you would expect predictions to be good."
   ]
  },
  {
   "cell_type": "code",
   "execution_count": 40,
   "metadata": {},
   "outputs": [],
   "source": [
    "###Step 0: Decide what data you want to analyse\n",
    "\n",
    "#We will look at the first 10000 molecules\n",
    "\n",
    "selfie_input = selfies_list[:10000]\n"
   ]
  },
  {
   "cell_type": "code",
   "execution_count": 41,
   "metadata": {},
   "outputs": [],
   "source": [
    "###Step 1: Generate the one hot representations of your input/s.\n",
    "\n",
    "data = auxiliary_functions.multiple_selfies_to_onehot(selfie_input, largest_selfies_len, selfies_alphabet)\n",
    "data = torch.tensor(data, dtype=torch.float).to(device)"
   ]
  },
  {
   "cell_type": "code",
   "execution_count": 42,
   "metadata": {},
   "outputs": [],
   "source": [
    "###Step 2: Generate the latent vectors\n",
    "\n",
    "mus = auxiliary_functions.gen_latent_vectors(vae_encoder, data)"
   ]
  },
  {
   "cell_type": "code",
   "execution_count": 48,
   "metadata": {},
   "outputs": [],
   "source": [
    "###Step 3: Take the true HOMO-LUMO gaps and prepare the data\n",
    "\n",
    "\n",
    "my_file = pd.read_csv(\"../datasets/filtered_qm9_energies.csv\", index_col=None)## The file you want to train on, should contain SMILES reps, latent space reps and properties\n",
    "\n",
    "properties_df = my_file.drop(columns=['smiles']) ## drop all smiles from the properties df\n",
    "properties_array = properties_df.to_numpy() ## convert the df to numpy array\n",
    "properties_tensor = torch.tensor(properties_array,dtype=torch.float32).to(device)\n",
    "properties_tensor = properties_tensor[:10000]\n",
    "\n",
    "\n",
    "\n",
    "sorted_props, props_index = torch.sort(properties_tensor, dim=0)\n",
    "mus_ordered = torch.empty(0, dtype=torch.float32).to(device)\n",
    "for x in props_index:\n",
    "    mus_ordered = torch.cat((mus_ordered, mus[x]), dim = 0)"
   ]
  },
  {
   "cell_type": "code",
   "execution_count": 53,
   "metadata": {},
   "outputs": [],
   "source": [
    "###Step 4: Predict the HOMO-LUMO gaps\n",
    "\n",
    "\n",
    "mlp.eval()\n",
    "with torch.no_grad():\n",
    "    HL_predictions = mlp(mus_ordered)\n"
   ]
  },
  {
   "cell_type": "code",
   "execution_count": 56,
   "metadata": {},
   "outputs": [],
   "source": [
    "###Step 5: Prepare the data\n",
    "\n",
    "abs_dif = torch.sqrt((sorted_props-HL_predictions)**2)\n",
    "rel_dif = abs_dif/sorted_props\n",
    "\n",
    "preds_list = HL_predictions.squeeze().tolist()\n",
    "sorted_list = sorted_props.squeeze().tolist()\n",
    "abs_list = abs_dif.squeeze().tolist()\n",
    "rel_list = rel_dif.squeeze().tolist()"
   ]
  },
  {
   "cell_type": "code",
   "execution_count": 59,
   "metadata": {},
   "outputs": [
    {
     "data": {
      "image/png": "[encoded data removed]",
      "text/plain": [
       "<Figure size 1152x720 with 1 Axes>"
      ]
     },
     "metadata": {
      "needs_background": "light"
     },
     "output_type": "display_data"
    }
   ],
   "source": [
    "def autolabel(rects, counts):\n",
    "    for i in range(len(rects)):\n",
    "        height = rects[i].get_height()\n",
    "        plt.text(rects[i].get_x() + rects[i].get_width()/2., height , '%d' % int(counts[i]), ha='center', va='bottom')\n",
    "\n",
    "plt.figure(figsize=(16, 10))\n",
    "\n",
    "absolute_values = sorted_list\n",
    "relative_errors = rel_list\n",
    "bins = np.linspace(min(absolute_values), max(absolute_values), 25)  \n",
    "digitized = np.digitize(absolute_values, bins)\n",
    "unique_values, counts = np.unique(digitized, return_counts=True)\n",
    "\n",
    "mean_relative_errors = [np.mean(np.array(relative_errors)[digitized == i]) for i in range(1, len(bins))]\n",
    "unique_values, counts = np.unique(digitized, return_counts=True)\n",
    "\n",
    "# Create the bar plot\n",
    "bars = plt.bar(bins[:-1], mean_relative_errors, width=np.diff(bins), edgecolor='black', alpha=0.7)\n",
    "\n",
    "# Call the autolabel function to add labels above each bar\n",
    "autolabel(bars, counts)\n",
    "\n",
    "plt.xlabel('HOMO-LUMO gap (Ha)')\n",
    "plt.ylabel('Mean Relative Error')\n",
    "plt.title('Mean Relative Error for Binned Absolute HOMO-LUMO Gaps')\n",
    "\n",
    "# Show the plot\n",
    "plt.show()"
   ]
  }
 ],
 "metadata": {
  "kernelspec": {
   "display_name": "Python 3",
   "language": "python",
   "name": "python3"
  },
  "language_info": {
   "codemirror_mode": {
    "name": "ipython",
    "version": 3
   },
   "file_extension": ".py",
   "mimetype": "text/x-python",
   "name": "python",
   "nbconvert_exporter": "python",
   "pygments_lexer": "ipython3",
   "version": "3.6.8"
  }
 },
 "nbformat": 4,
 "nbformat_minor": 2
}
