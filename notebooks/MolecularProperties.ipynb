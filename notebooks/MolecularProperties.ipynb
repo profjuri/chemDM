{
 "cells": [
  {
   "cell_type": "code",
   "execution_count": 1,
   "metadata": {},
   "outputs": [],
   "source": [
    "# import stand alone packages\n",
    "import torch\n",
    "import importlib\n",
    "import yaml\n",
    "import pandas as pd\n",
    "import numpy as np\n",
    "import torch.distributions as dist\n",
    "import matplotlib.pyplot as plt\n",
    "import networkx as nx\n",
    "from pysmiles import read_smiles\n",
    "from rdkit import Chem\n",
    "from rdkit.Chem import rdFingerprintGenerator\n",
    "from rdkit import DataStructs\n",
    "import importlib\n",
    "import selfies\n",
    "import torch.nn.functional as TorchF\n",
    "import sys\n",
    "import auxiliary_functions\n",
    "\n",
    "# import our own functins\n",
    "import data_loader\n",
    "import chemistry_vae_symmetric_rnn_final\n",
    "\n",
    "sys.path.insert(0, '../mlp/')\n",
    "\n",
    "import properties_searcher_2\n",
    "\n"
   ]
  },
  {
   "cell_type": "markdown",
   "metadata": {},
   "source": [
    "*Pipeline steps:*\n",
    "\n",
    "*VAE:* \n",
    "\n",
    "The first step is to simply train a VAE. Ideal hyperparameters are already set up in the 'selfies_rnn.yml' file. The functions within the VAE are fairly generic, i.e., save models, save scores, etc. The VAE is fed datasets in SMILES form, after which it converts the dataset to SELFIES. There is an option to use SMILES however this is redundant and will be removed in the quality of life stuff.\n",
    "\n",
    "The VAE saves a model every 50 epochs, you should be able to generate a good model after that many epochs. \n",
    "\n",
    "\n",
    "*MLP:*\n",
    "\n",
    "The settings within the perceptron are slightly more confusing. Since the VAE randomises the input dataset, the alphabets are inconsistent and so we have to specifiy the alphabet of the VAE every time. The MLP has generic functions, similar to the VAE. \n",
    "\n",
    "\n",
    "*Analysis:*\n",
    "\n",
    "Our analysis for QM9 involves looking at the validation dataset and seeing if the perceptron is capable of predicting the HOMO-LUMO gaps. I.e., whether the perceptron can figure out the HOMO-LUMO gaps of data unseen by the VAE. \n",
    "\n",
    "Furthermore, in this notebook, all of the non-generic functions will be displayed.\n",
    "\n",
    "Ultimately, we should have a plot that demonstrates how good the perceptron is at predicting the HOMO-LUMO gaps for unseen molecules. This would be analagous to generating some new latent vectors defined by the latent space. However, since QM9 is complete, we cannot really generate any new molecules, hence the benchmark nature of the paper.\n",
    "\n",
    "\n",
    "Our analysis uses the QM9 data\n"
   ]
  },
  {
   "cell_type": "code",
   "execution_count": 2,
   "metadata": {},
   "outputs": [],
   "source": [
    "# in order to train the RNN vae run\n",
    "# chemistry_vae_symmetric_rnn_final.main()"
   ]
  },
  {
   "cell_type": "code",
   "execution_count": 3,
   "metadata": {},
   "outputs": [
    {
     "name": "stdout",
     "output_type": "stream",
     "text": [
      "{'H': 1, 'F': 1, 'Cl': 1, 'Br': 1, 'I': 1, 'B': 3, 'B+1': 2, 'B-1': 4, 'O': 2, 'O+1': 3, 'O-1': 1, 'N': 3, 'N+1': 4, 'N-1': 2, 'C': 4, 'C+1': 5, 'C-1': 3, 'P': 5, 'P+1': 6, 'P-1': 4, 'S': 6, 'S+1': 7, 'S-1': 5, '?': 8}\n",
      "                  smiles  energy_gap\n",
      "0       N#CC1NC11C2CC1C2      0.2818\n",
      "1         OC1=NON=C1OC=O      0.2271\n",
      "2        CC12CCC1CN1CC21      0.3036\n",
      "3        CN=C1OC(=O)CC1N      0.2451\n",
      "4         CC(CO)C(CO)C#N      0.3048\n",
      "...                  ...         ...\n",
      "130687  CC1CC2(OCC12)C#C      0.2649\n",
      "130688  CC(=O)C12CCC1CO2      0.2115\n",
      "130689  CC1(CNC1=O)C1CN1      0.2719\n",
      "130690  CC1=NC2C3CC2C3O1      0.2617\n",
      "130691   CCN1C=C(O)N=C1C      0.2227\n",
      "\n",
      "[130692 rows x 2 columns]\n",
      "--> Translating SMILES to SELFIES...\n",
      "27\n",
      "Finished translating SMILES to SELFIES.\n"
     ]
    }
   ],
   "source": [
    "# here we want to read in data and tranform them into one_hot\n",
    "device = torch.device(\"cuda\" if torch.cuda.is_available() else \"cpu\")\n",
    "\n",
    "qm9_path = \"../datasets/filtered_qm9_energies.csv\"\n",
    "\n",
    "selfies_list, selfies_alphabet, largest_selfies_len, smiles_list, smiles_alphabet, largest_smiles_len = chemistry_vae_symmetric_rnn_final.get_selfie_and_smiles_encodings_for_dataset(qm9_path)\n",
    "\n"
   ]
  },
  {
   "cell_type": "code",
   "execution_count": 4,
   "metadata": {},
   "outputs": [
    {
     "data": {
      "text/plain": [
       "21"
      ]
     },
     "execution_count": 4,
     "metadata": {},
     "output_type": "execute_result"
    }
   ],
   "source": [
    "largest_selfies_len"
   ]
  },
  {
   "cell_type": "markdown",
   "metadata": {},
   "source": [
    "***VAE USAGE:***"
   ]
  },
  {
   "cell_type": "code",
   "execution_count": 5,
   "metadata": {},
   "outputs": [
    {
     "data": {
      "text/plain": [
       "<module 'auxiliary_functions' from '/users/sgccook3/DM_chems/Pipeline/vae/auxiliary_functions.py'>"
      ]
     },
     "execution_count": 5,
     "metadata": {},
     "output_type": "execute_result"
    }
   ],
   "source": [
    "importlib.reload(auxiliary_functions)"
   ]
  },
  {
   "cell_type": "code",
   "execution_count": 6,
   "metadata": {},
   "outputs": [],
   "source": [
    "###Step 0: Decide what data you want to analyse\n",
    "\n",
    "# 1. For just one SELFIE:\n",
    "selfie_input = [selfies_list[0]] ### Choose the SELFIE you want\n",
    "\n",
    "# 2. For all/multiple SELFIES:\n",
    "\n",
    "#selfie_input = selfie_list[:1000]\n"
   ]
  },
  {
   "cell_type": "code",
   "execution_count": 7,
   "metadata": {},
   "outputs": [],
   "source": [
    "###Step 1: Load the VAE encoder and decoder settings\n",
    "\n",
    "save_path = '../example_models/final_vae/stack_size1neurons_num2048_l_dim64/'\n",
    "vae_epoch = 250\n",
    "\n",
    "\n",
    "vae_settings = yaml.safe_load(open(str(save_path) + \"settings/\" + \"settings.yml\", \"r\"))\n",
    "encoder_parameter = vae_settings['encoder']\n",
    "decoder_parameter = vae_settings['decoder']\n",
    "selfies_alphabet = vae_settings['alphabet']\n",
    "torch_seed = vae_settings['data']['torch_seed']"
   ]
  },
  {
   "cell_type": "markdown",
   "metadata": {},
   "source": []
  },
  {
   "cell_type": "code",
   "execution_count": 8,
   "metadata": {},
   "outputs": [],
   "source": [
    "###Step 2: Create your one hot representation, we use 'selfie_input' here.\n",
    "\n",
    "### Need to fetch the indices of the rand_perm tensor\n",
    "\n",
    "data = auxiliary_functions.multiple_selfies_to_onehot(selfies_list, largest_selfies_len, selfies_alphabet)\n",
    "data = torch.tensor(data, dtype=torch.float).to(device)\n",
    "torch.manual_seed(torch_seed)\n",
    "rand_perms = torch.randperm(data.size()[0])\n",
    "data = data[rand_perms]\n",
    "\n",
    "### Now we can look at our input selfies:\n",
    "\n",
    "data = auxiliary_functions.multiple_selfies_to_onehot(selfie_input, largest_selfies_len, selfies_alphabet)\n",
    "data = torch.tensor(data, dtype=torch.float).to(device)\n"
   ]
  },
  {
   "cell_type": "code",
   "execution_count": 9,
   "metadata": {},
   "outputs": [
    {
     "data": {
      "text/plain": [
       "VAEDecoder(\n",
       "  (decode_RNN): GRU(64, 512)\n",
       "  (decode_FC): Sequential(\n",
       "    (0): Linear(in_features=512, out_features=27, bias=True)\n",
       "  )\n",
       ")"
      ]
     },
     "execution_count": 9,
     "metadata": {},
     "output_type": "execute_result"
    }
   ],
   "source": [
    "###Step 3: Initalise the VAE encoder and decoder\n",
    "\n",
    "encoder_dict_path = str(save_path) + str(vae_epoch) + \"/E.pt\"\n",
    "decoder_dict_path = str(save_path) + str(vae_epoch) + \"/D.pt\"\n",
    "\n",
    "encoder_dict = torch.load(encoder_dict_path, map_location = 'cpu')\n",
    "decoder_dict = torch.load(decoder_dict_path, map_location = 'cpu')\n",
    "\n",
    "\n",
    "vae_encoder = chemistry_vae_symmetric_rnn_final.VAEEncoder(in_dimension=(data.shape[1]*data.shape[2]), **encoder_parameter)\n",
    "vae_decoder = chemistry_vae_symmetric_rnn_final.VAEDecoder(**decoder_parameter, out_dimension=len(selfies_alphabet))\n",
    "\n",
    "vae_encoder.load_state_dict(encoder_dict)\n",
    "vae_decoder.load_state_dict(decoder_dict)\n",
    "\n",
    "vae_encoder.eval()\n",
    "vae_decoder.eval()"
   ]
  },
  {
   "cell_type": "code",
   "execution_count": 10,
   "metadata": {},
   "outputs": [],
   "source": [
    "###Step 4: Generate the latent vectors\n",
    "\n",
    "mus = auxiliary_functions.gen_latent_vectors(vae_encoder, data)"
   ]
  },
  {
   "cell_type": "code",
   "execution_count": 11,
   "metadata": {},
   "outputs": [],
   "source": [
    "###Step 5: Decode the latent vectors\n",
    "\n",
    "# The outputs will all be in SMILES\n",
    "\n",
    "# 1. For a single latent point:\n",
    "\n",
    "final_smiles_list = auxiliary_functions.decode_single_lpoint(vae_decoder, data.shape[1], mus, selfies_alphabet, device)\n",
    "\n",
    "# 2. For all/multiple latent points:\n",
    "\n",
    "#final_smiles_list = auxiliary_functions.decode_lpoint(vae_decoder, data.shape[1], mus, selfies_alphabet, device)"
   ]
  },
  {
   "cell_type": "code",
   "execution_count": 12,
   "metadata": {},
   "outputs": [
    {
     "name": "stdout",
     "output_type": "stream",
     "text": [
      "['N#CC1NC12C3CC2C3']\n"
     ]
    }
   ],
   "source": [
    "print(final_smiles_list)"
   ]
  },
  {
   "cell_type": "markdown",
   "metadata": {},
   "source": [
    "*Example usage:*\n",
    "\n",
    "cinnamon"
   ]
  },
  {
   "cell_type": "code",
   "execution_count": 13,
   "metadata": {},
   "outputs": [
    {
     "name": "stdout",
     "output_type": "stream",
     "text": [
      "Visual of the chemical itself:\n"
     ]
    },
    {
     "data": {
      "image/png": "[encoded data removed]",
      "text/plain": [
       "<rdkit.Chem.rdchem.Mol at 0x7faad37926c0>"
      ]
     },
     "metadata": {},
     "output_type": "display_data"
    }
   ],
   "source": [
    "###Step 1: Input your SMILES molecule and convert to a SELFIES\n",
    "\n",
    "smiles_input = 'C1=CC=C(C=C1)C=CC=O'\n",
    "\n",
    "selfie_cinnamon = [selfies.encoder(smiles_input)]\n",
    "\n",
    "molToDraw= Chem.MolFromSmiles(smiles_input)\n",
    "\n",
    "print('Visual of the chemical itself:')\n",
    "display(molToDraw)"
   ]
  },
  {
   "cell_type": "code",
   "execution_count": 14,
   "metadata": {},
   "outputs": [],
   "source": [
    "###Step 2: Convert the molecule to a one hot representation:\n",
    "\n",
    "data_cinnamon = auxiliary_functions.multiple_selfies_to_onehot(selfie_cinnamon, largest_selfies_len, selfies_alphabet)\n",
    "data_cinnamon = torch.tensor(data_cinnamon, dtype=torch.float).to(device)"
   ]
  },
  {
   "cell_type": "code",
   "execution_count": 15,
   "metadata": {},
   "outputs": [],
   "source": [
    "###Step 3: Convert the one hot representation to a latent vector:\n",
    "\n",
    "cinnamon_lpoint  = auxiliary_functions.gen_latent_vectors(vae_encoder, data_cinnamon)"
   ]
  },
  {
   "cell_type": "code",
   "execution_count": 16,
   "metadata": {},
   "outputs": [],
   "source": [
    "###Step 4: Decode the cinnamon latent vector\n",
    "\n",
    "cinnamon_smiles = auxiliary_functions.decode_single_lpoint(vae_decoder, data.shape[1], cinnamon_lpoint, selfies_alphabet, device)"
   ]
  },
  {
   "cell_type": "code",
   "execution_count": 17,
   "metadata": {},
   "outputs": [
    {
     "name": "stdout",
     "output_type": "stream",
     "text": [
      "cinnamon input: C1=CC=C(C=C1)C=CC=O cinnamon recreation: C1NC=C(C=C1)C(N)=O\n"
     ]
    }
   ],
   "source": [
    "print('cinnamon input:', smiles_input, 'cinnamon recreation:', cinnamon_smiles[0])"
   ]
  },
  {
   "cell_type": "code",
   "execution_count": 18,
   "metadata": {},
   "outputs": [
    {
     "data": {
      "text/plain": [
       "<module 'properties_searcher_2' from '../mlp/properties_searcher_2.py'>"
      ]
     },
     "execution_count": 18,
     "metadata": {},
     "output_type": "execute_result"
    }
   ],
   "source": [
    "importlib.reload(properties_searcher_2)"
   ]
  },
  {
   "cell_type": "markdown",
   "metadata": {},
   "source": [
    "***MLP:***"
   ]
  },
  {
   "cell_type": "code",
   "execution_count": 19,
   "metadata": {},
   "outputs": [
    {
     "data": {
      "text/plain": [
       "<All keys matched successfully>"
      ]
     },
     "execution_count": 19,
     "metadata": {},
     "output_type": "execute_result"
    }
   ],
   "source": [
    "# validate perceptron model\n",
    "mlp_path = '../../VAE_sandbox/perceptron_folder/reworked_mlp/'\n",
    "mlp_epoch = 50\n",
    "\n",
    "mlp_settings = yaml.safe_load(open(str(mlp_path) + \"settings/\" + \"settings.yml\", \"r\"))\n",
    "model_params = mlp_settings['model_params']\n",
    "\n",
    "mlp = properties_searcher_2.PropertyRegressionModel(**model_params).to(device)\n",
    "state_dict = torch.load(mlp_path + '/' + str(mlp_epoch) + '/model.pt', map_location='cpu')\n",
    "\n",
    "\n",
    "mlp.load_state_dict(state_dict)"
   ]
  },
  {
   "cell_type": "code",
   "execution_count": 20,
   "metadata": {},
   "outputs": [],
   "source": [
    "selfies_input = selfies_list[:10000]"
   ]
  },
  {
   "cell_type": "markdown",
   "metadata": {},
   "source": [
    "**Plotting the mean relative errors:**\n",
    "\n",
    "*Note:*\n",
    "\n",
    "This example will use the first 10,000 molecules in the dataset. I believe all of these molecules are ones that the MLP has actually trained on so you would expect predictions to be good."
   ]
  },
  {
   "cell_type": "code",
   "execution_count": 21,
   "metadata": {},
   "outputs": [],
   "source": [
    "###Step 0: Decide what data you want to analyse\n",
    "\n",
    "#We will look at the first 10000 molecules\n",
    "\n",
    "val_int = int(0.8*len(selfies_list))"
   ]
  },
  {
   "cell_type": "code",
   "execution_count": 22,
   "metadata": {},
   "outputs": [],
   "source": [
    "mlp_settings['settings']['smiles_file'] = \"../datasets/filtered_qm9_energies.csv\""
   ]
  },
  {
   "cell_type": "code",
   "execution_count": 23,
   "metadata": {},
   "outputs": [
    {
     "name": "stdout",
     "output_type": "stream",
     "text": [
      "{'H': 1, 'F': 1, 'Cl': 1, 'Br': 1, 'I': 1, 'B': 3, 'B+1': 2, 'B-1': 4, 'O': 2, 'O+1': 3, 'O-1': 1, 'N': 3, 'N+1': 4, 'N-1': 2, 'C': 4, 'C+1': 5, 'C-1': 3, 'P': 5, 'P+1': 6, 'P-1': 4, 'S': 6, 'S+1': 7, 'S-1': 5, '?': 8}\n",
      "                  smiles  energy_gap\n",
      "0       N#CC1NC11C2CC1C2      0.2818\n",
      "1         OC1=NON=C1OC=O      0.2271\n",
      "2        CC12CCC1CN1CC21      0.3036\n",
      "3        CN=C1OC(=O)CC1N      0.2451\n",
      "4         CC(CO)C(CO)C#N      0.3048\n",
      "...                  ...         ...\n",
      "130687  CC1CC2(OCC12)C#C      0.2649\n",
      "130688  CC(=O)C12CCC1CO2      0.2115\n",
      "130689  CC1(CNC1=O)C1CN1      0.2719\n",
      "130690  CC1=NC2C3CC2C3O1      0.2617\n",
      "130691   CCN1C=C(O)N=C1C      0.2227\n",
      "\n",
      "[130692 rows x 2 columns]\n"
     ]
    },
    {
     "name": "stdout",
     "output_type": "stream",
     "text": [
      "--> Translating SMILES to SELFIES...\n",
      "27\n",
      "Finished translating SMILES to SELFIES.\n"
     ]
    }
   ],
   "source": [
    "train_properties_tensor, valid_properties_tensor, mus_train, mus_valid = properties_searcher_2.data_init(mlp_settings, device)"
   ]
  },
  {
   "cell_type": "code",
   "execution_count": 24,
   "metadata": {},
   "outputs": [],
   "source": [
    "###Step 3: Take the true HOMO-LUMO gaps and prepare the data\n",
    "\n",
    "\n",
    "sorted_props, props_index = torch.sort(valid_properties_tensor, dim=0)\n"
   ]
  },
  {
   "cell_type": "code",
   "execution_count": 25,
   "metadata": {},
   "outputs": [],
   "source": [
    "mus_ordered = mus_valid[props_index]"
   ]
  },
  {
   "cell_type": "code",
   "execution_count": 26,
   "metadata": {},
   "outputs": [],
   "source": [
    "###Step 4: Predict the HOMO-LUMO gaps\n",
    "\n",
    "\n",
    "mlp.eval()\n",
    "with torch.no_grad():\n",
    "    HL_predictions = mlp(mus_ordered.squeeze())\n"
   ]
  },
  {
   "cell_type": "code",
   "execution_count": 27,
   "metadata": {},
   "outputs": [],
   "source": [
    "def stats(y_test, y_pred):\n",
    "\n",
    "    MAE = torch.mean(torch.abs(y_pred - y_test))\n",
    "    MSE = torch.mean((y_pred - y_test)*(y_pred - y_test))\n",
    "\n",
    "    SSR = torch.sum((y_test-y_pred).pow(2))\n",
    "    SST = torch.sum((y_test-y_test.mean()).pow(2))\n",
    "    r2 = 1 - SSR/SST\n",
    "\n",
    "    return MSE, MAE, r2"
   ]
  },
  {
   "cell_type": "code",
   "execution_count": 28,
   "metadata": {},
   "outputs": [
    {
     "name": "stdout",
     "output_type": "stream",
     "text": [
      "mse: tensor(0.0002) mae tensor(0.0105) r2 tensor(0.9130)\n"
     ]
    }
   ],
   "source": [
    "mse, mae, r2 = stats(sorted_props,HL_predictions)\n",
    "\n",
    "print('mse:', mse, 'mae', mae, 'r2', r2)"
   ]
  },
  {
   "cell_type": "code",
   "execution_count": 29,
   "metadata": {},
   "outputs": [],
   "source": [
    "###Step 5: Prepare the data\n",
    "\n",
    "abs_dif = torch.sqrt((sorted_props-HL_predictions)**2)\n",
    "rel_dif = abs_dif/sorted_props\n",
    "\n",
    "preds_list = HL_predictions.squeeze().tolist()\n",
    "sorted_list = sorted_props.squeeze().tolist()\n",
    "abs_list = abs_dif.squeeze().tolist()\n",
    "rel_list = rel_dif.squeeze().tolist()"
   ]
  },
  {
   "cell_type": "code",
   "execution_count": 30,
   "metadata": {},
   "outputs": [],
   "source": [
    "\n",
    "segment_length = len(sorted_list) // 100\n",
    "\n",
    "homos = [np.mean(sorted_list[i * segment_length: (i + 1) * segment_length]) for i in range(100)]\n",
    "rels = [np.mean(rel_list[i * segment_length: (i + 1) * segment_length]) for i in range(100)]\n",
    "\n"
   ]
  },
  {
   "cell_type": "code",
   "execution_count": 31,
   "metadata": {},
   "outputs": [],
   "source": [
    "bins = 25\n",
    "\n",
    "seg_length = (max(sorted_list)-min(sorted_list))/bins\n",
    "props_bins = [min(sorted_props).item()+i*seg_length for i in range(bins)]"
   ]
  },
  {
   "cell_type": "code",
   "execution_count": 33,
   "metadata": {},
   "outputs": [
    {
     "name": "stderr",
     "output_type": "stream",
     "text": [
      "/users/sgccook3/.venv/lib64/python3.6/site-packages/numpy/core/fromnumeric.py:3373: RuntimeWarning: Mean of empty slice.\n",
      "  out=out, **kwargs)\n",
      "/users/sgccook3/.venv/lib64/python3.6/site-packages/numpy/core/_methods.py:170: RuntimeWarning: invalid value encountered in double_scalars\n",
      "  ret = ret.dtype.type(ret / rcount)\n",
      "posx and posy should be finite values\n",
      "posx and posy should be finite values\n"
     ]
    },
    {
     "data": {
      "image/png": "[encoded data removed]",
      "text/plain": [
       "<Figure size 1152x720 with 1 Axes>"
      ]
     },
     "metadata": {
      "needs_background": "light"
     },
     "output_type": "display_data"
    }
   ],
   "source": [
    "def autolabel(rects, counts):\n",
    "    for i in range(len(rects)):\n",
    "        height = rects[i].get_height()\n",
    "        plt.text(rects[i].get_x() + rects[i].get_width()/2., height , '%d' % int(counts[i]), ha='center', va='bottom')\n",
    "\n",
    "plt.figure(figsize=(16, 10))\n",
    "\n",
    "absolute_values = sorted_list[:(len(sorted_list)-1)]\n",
    "relative_errors = rel_list[:(len(sorted_list)-1)]\n",
    "bins = np.linspace(min(absolute_values), max(absolute_values), 20)  \n",
    "digitized = np.digitize(absolute_values, bins)\n",
    "unique_values, counts = np.unique(digitized, return_counts=True)\n",
    "\n",
    "mean_relative_errors = [np.mean(np.array(relative_errors)[digitized == i]) for i in range(1, len(bins))]\n",
    "unique_values, counts = np.unique(digitized, return_counts=True)\n",
    "\n",
    "# Create the bar plot\n",
    "bars = plt.bar(bins[:-1], mean_relative_errors, width=np.diff(bins), edgecolor='black', alpha=0.7)\n",
    "\n",
    "# Call the autolabel function to add labels above each bar\n",
    "autolabel(bars, counts)\n",
    "\n",
    "plt.xlabel('HOMO-LUMO gap (Ha)')\n",
    "plt.ylabel('Mean Relative Error')\n",
    "plt.title('Mean Relative Error for Binned Absolute HOMO-LUMO Gaps')\n",
    "\n",
    "# Show the plot\n",
    "plt.show()"
   ]
  },
  {
   "cell_type": "code",
   "execution_count": 39,
   "metadata": {},
   "outputs": [
    {
     "data": {
      "image/png": "[encoded data removed]",
      "text/plain": [
       "<Figure size 1152x720 with 1 Axes>"
      ]
     },
     "metadata": {
      "needs_background": "light"
     },
     "output_type": "display_data"
    }
   ],
   "source": [
    "plt.figure(figsize=(16, 10))\n",
    "\n",
    "homos[0] = homos[0] - min(sorted_list) \n",
    "homos[len(homos)-1] = homos[len(homos)-1] + max(sorted_list)\n",
    "bar_widths = np.diff(np.concatenate([homos, [homos[-1] + (homos[-1] - homos[-2])]]))\n",
    "\n",
    "plt.bar(homos, rels, width=bar_widths, alpha=0.7, align='edge')\n",
    "plt.xlabel('HOMO-LUMO Gap (Ha)')\n",
    "plt.ylabel('Mean relative error')\n",
    "plt.title('HOMO-LUMO Gap vs Relative Error')\n",
    "plt.xlim(min(sorted_list), max(sorted_list))\n",
    "plt.show()\n"
   ]
  },
  {
   "cell_type": "code",
   "execution_count": null,
   "metadata": {},
   "outputs": [
    {
     "data": {
      "image/png": "[encoded data removed]",
      "text/plain": [
       "<Figure size 1152x720 with 1 Axes>"
      ]
     },
     "metadata": {
      "needs_background": "light"
     },
     "output_type": "display_data"
    }
   ],
   "source": [
    "plt.figure(figsize=(16, 10))\n",
    "\n",
    "\n",
    "# Calculate the width of each bar based on some criteria (replace this with your own logic)\n",
    "bar_widths = np.diff(np.concatenate([homos, [homos[-1] + (homos[-1] - homos[-2])]]))\n",
    "homos[0] = homos[0] - min(sorted_list) \n",
    "homos[len(homos)-1] = homos[len(homos)-1] + max(sorted_list)\n",
    "bar_widths[0] = homos[1] - homos[0]\n",
    "\n",
    "# Plot the bars with variable widths\n",
    "plt.bar(homos, rels, width=bar_widths, alpha=0.7, align='edge')\n",
    "\n",
    "# Add labels and title\n",
    "plt.xlabel('HOMO-LUMO Gap (Ha)')\n",
    "plt.ylabel('Mean relative error')\n",
    "plt.title('HOMO-LUMO Gap vs Relative Error')\n",
    "plt.xlim(min(sorted_list), max(sorted_list))\n",
    "\n",
    "# Show the plot\n",
    "plt.show()"
   ]
  }
 ],
 "metadata": {
  "kernelspec": {
   "display_name": "Python 3",
   "language": "python",
   "name": "python3"
  },
  "language_info": {
   "codemirror_mode": {
    "name": "ipython",
    "version": 3
   },
   "file_extension": ".py",
   "mimetype": "text/x-python",
   "name": "python",
   "nbconvert_exporter": "python",
   "pygments_lexer": "ipython3",
   "version": "3.6.8"
  }
 },
 "nbformat": 4,
 "nbformat_minor": 2
}
