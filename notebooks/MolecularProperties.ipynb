{
 "cells": [
  {
   "cell_type": "code",
   "execution_count": 19,
   "metadata": {},
   "outputs": [],
   "source": [
    "# import stand alone packages\n",
    "import torch\n",
    "import importlib\n",
    "import yaml\n",
    "import pandas as pd\n",
    "import numpy as np\n",
    "import torch.distributions as dist\n",
    "import matplotlib.pyplot as plt\n",
    "from rdkit import Chem\n",
    "import importlib\n",
    "import selfies\n",
    "import sys\n",
    "\n",
    "\n",
    "\n",
    "# import our own functions\n",
    "sys.path.insert(1, '../model')\n",
    "\n",
    "import functions\n",
    "import property_prediction_MLP\n",
    "import vae\n"
   ]
  },
  {
   "cell_type": "markdown",
   "metadata": {},
   "source": [
    "*Pipeline steps:*\n",
    "\n",
    "*VAE:* \n",
    "\n",
    "The first step is to simply train a VAE. Ideal hyperparameters are already set up in the 'selfies_rnn.yml' file. The functions within the VAE are fairly generic, i.e., save models, save scores, etc. The VAE is fed datasets in SMILES form, after which it converts the dataset to SELFIES. There is an option to use SMILES however this is redundant and will be removed in the quality of life stuff.\n",
    "\n",
    "The VAE saves a model every 50 epochs, you should be able to generate a good model after that many epochs. \n",
    "\n",
    "\n",
    "*MLP:*\n",
    "\n",
    "The settings within the perceptron are slightly more confusing. Since the VAE randomises the input dataset, the alphabets are inconsistent and so we have to specifiy the alphabet of the VAE every time. The MLP has generic functions, similar to the VAE. \n",
    "\n",
    "\n",
    "*Analysis:*\n",
    "\n",
    "Our analysis for QM9 involves looking at the validation dataset and seeing if the perceptron is capable of predicting the HOMO-LUMO gaps. I.e., whether the perceptron can figure out the HOMO-LUMO gaps of data unseen by the VAE. \n",
    "\n",
    "Furthermore, in this notebook, all of the non-generic functions will be displayed.\n",
    "\n",
    "Ultimately, we should have a plot that demonstrates how good the perceptron is at predicting the HOMO-LUMO gaps for unseen molecules. This would be analagous to generating some new latent vectors defined by the latent space. However, since QM9 is complete, we cannot really generate any new molecules, hence the benchmark nature of the paper.\n",
    "\n",
    "\n",
    "Our analysis uses the QM9 data\n"
   ]
  },
  {
   "cell_type": "code",
   "execution_count": 20,
   "metadata": {},
   "outputs": [],
   "source": [
    "# in order to train the RNN vae run\n",
    "# chemistry_vae_symmetric_rnn_final.main()"
   ]
  },
  {
   "cell_type": "code",
   "execution_count": 25,
   "metadata": {},
   "outputs": [
    {
     "name": "stdout",
     "output_type": "stream",
     "text": [
      "--> Translating SMILES to SELFIES...\n",
      "Finished translating SMILES to SELFIES.\n"
     ]
    }
   ],
   "source": [
    "# here we want to read in data and tranform them into one_hot\n",
    "device = torch.device(\"cuda\" if torch.cuda.is_available() else \"cpu\")\n",
    "\n",
    "smiles_path = \"../datasets/QM9/filtered_qm9_energies.csv\"\n",
    "\n",
    "selfies_list, selfies_alphabet, largest_selfies_len = functions.get_selfie_and_smiles_encodings_for_dataset(smiles_path)"
   ]
  },
  {
   "cell_type": "markdown",
   "metadata": {},
   "source": [
    "***VAE USAGE:***"
   ]
  },
  {
   "cell_type": "code",
   "execution_count": 27,
   "metadata": {},
   "outputs": [],
   "source": [
    "###Step 0: Decide what data you want to analyse\n",
    "\n",
    "# 1. For just one SELFIE:\n",
    "selfie_input = [selfies_list[0]] ### Choose the SELFIE you want\n",
    "\n",
    "# 2. For all/multiple SELFIES:\n",
    "\n",
    "#selfie_input = selfie_list[:1000]\n"
   ]
  },
  {
   "cell_type": "code",
   "execution_count": 28,
   "metadata": {},
   "outputs": [],
   "source": [
    "###Step 1: Load the VAE encoder and decoder settings\n",
    "\n",
    "save_path = './DM_chems/symmetric_rnn_vae_folder/updated_vae2/stack_size1neurons_num2048_l_dim64/'\n",
    "vae_epoch = 250\n",
    "\n",
    "\n",
    "vae_settings = yaml.safe_load(open(str(save_path) + \"settings/\" + \"settings.yml\", \"r\"))\n",
    "encoder_parameter = vae_settings['encoder']\n",
    "decoder_parameter = vae_settings['decoder']\n",
    "selfies_alphabet = vae_settings['alphabet']\n",
    "torch_seed = vae_settings['data']['torch_seed']"
   ]
  },
  {
   "cell_type": "code",
   "execution_count": 75,
   "metadata": {},
   "outputs": [
    {
     "data": {
      "text/plain": [
       "VAEDecoder(\n",
       "  (decode_RNN): GRU(64, 512)\n",
       "  (decode_FC): Sequential(\n",
       "    (0): Linear(in_features=512, out_features=27, bias=True)\n",
       "  )\n",
       ")"
      ]
     },
     "execution_count": 75,
     "metadata": {},
     "output_type": "execute_result"
    }
   ],
   "source": [
    "###Step 2: Initalise the VAE encoder and decoder\n",
    "\n",
    "encoder_dict_path = str(save_path) + str(vae_epoch) + \"/E.pt\"\n",
    "decoder_dict_path = str(save_path) + str(vae_epoch) + \"/D.pt\"\n",
    "\n",
    "encoder_dict = torch.load(encoder_dict_path, map_location = 'cpu')\n",
    "decoder_dict = torch.load(decoder_dict_path, map_location = 'cpu')\n",
    "\n",
    "\n",
    "vae_encoder = vae.VAEEncoder(in_dimension=(encoder_dict['encode_RNN.weight_ih_l0'].shape[1]), **encoder_parameter)\n",
    "vae_decoder = vae.VAEDecoder(**decoder_parameter, out_dimension=len(selfies_alphabet))\n",
    "\n",
    "vae_encoder.load_state_dict(encoder_dict)\n",
    "vae_decoder.load_state_dict(decoder_dict)\n",
    "\n",
    "vae_encoder.eval()\n",
    "vae_decoder.eval()"
   ]
  },
  {
   "cell_type": "markdown",
   "metadata": {},
   "source": []
  },
  {
   "cell_type": "code",
   "execution_count": 86,
   "metadata": {},
   "outputs": [
    {
     "name": "stderr",
     "output_type": "stream",
     "text": [
      "/users/sgccook2/.venv/lib64/python3.6/site-packages/ipykernel_launcher.py:6: UserWarning: To copy construct from a tensor, it is recommended to use sourceTensor.clone().detach() or sourceTensor.clone().detach().requires_grad_(True), rather than torch.tensor(sourceTensor).\n",
      "  \n",
      "/users/sgccook2/.venv/lib64/python3.6/site-packages/ipykernel_launcher.py:14: UserWarning: To copy construct from a tensor, it is recommended to use sourceTensor.clone().detach() or sourceTensor.clone().detach().requires_grad_(True), rather than torch.tensor(sourceTensor).\n",
      "  \n"
     ]
    }
   ],
   "source": [
    "###Optional step: Here we initialise the one hots, this is not necessary to do however it could be informative to look at\n",
    "\n",
    "### Need to fetch the indices of the rand_perm tensor\n",
    "\n",
    "data = functions.selfies_to_one_hot(selfies_list, selfies_alphabet, largest_selfies_len)\n",
    "data = torch.tensor(data, dtype=torch.float).to(device)\n",
    "torch.manual_seed(torch_seed)\n",
    "rand_perms = torch.randperm(data.size()[0])\n",
    "data = data[rand_perms]\n",
    "\n",
    "### Now we can look at our input selfies:\n",
    "\n",
    "data = functions.selfies_to_one_hot(selfies_list, selfies_alphabet, largest_selfies_len)\n",
    "data = torch.tensor(data, dtype=torch.float).to(device)\n"
   ]
  },
  {
   "cell_type": "code",
   "execution_count": 133,
   "metadata": {},
   "outputs": [],
   "source": [
    "largest_molecule_len = int(vae_encoder.encode_RNN.weight_ih_l0.shape[1]/len(selfies_alphabet))\n",
    "lpoint_size = decoder_dict['decode_RNN.weight_ih_l0'].shape[1]"
   ]
  },
  {
   "cell_type": "code",
   "execution_count": 135,
   "metadata": {},
   "outputs": [
    {
     "name": "stdout",
     "output_type": "stream",
     "text": [
      "data.device cpu\n"
     ]
    }
   ],
   "source": [
    "###Step 4: Generate the latent vectors\n",
    "\n",
    "mus = functions.selfies_to_lpoints(selfies_list, selfies_alphabet, largest_molecule_len, vae_encoder, lpoint_size)"
   ]
  },
  {
   "cell_type": "code",
   "execution_count": 205,
   "metadata": {},
   "outputs": [],
   "source": [
    "###Step 5: Decode the latent vectors (works for a mus tensor containing N number of latent vectors)\n",
    "\n",
    "# The outputs will all be in SMILES\n",
    "\n",
    "final_smiles_list = functions.decode_lpoints(mus, selfies_alphabet, vae_decoder, largest_molecule_len)\n"
   ]
  },
  {
   "cell_type": "markdown",
   "metadata": {},
   "source": [
    "*Example usage:*\n",
    "\n",
    "cinnamon"
   ]
  },
  {
   "cell_type": "code",
   "execution_count": 206,
   "metadata": {},
   "outputs": [
    {
     "name": "stdout",
     "output_type": "stream",
     "text": [
      "Visual of the chemical itself:\n"
     ]
    },
    {
     "data": {
      "image/png": "[encoded data removed]",
      "text/plain": [
       "<rdkit.Chem.rdchem.Mol at 0x7fc6dc95fb20>"
      ]
     },
     "metadata": {},
     "output_type": "display_data"
    }
   ],
   "source": [
    "###Step 1: Input your SMILES molecule and convert to a SELFIES\n",
    "\n",
    "smiles_input = 'C1=CC=C(C=C1)C=CC=O'\n",
    "\n",
    "selfie_cinnamon = [selfies.encoder(smiles_input)]\n",
    "\n",
    "molToDraw= Chem.MolFromSmiles(smiles_input)\n",
    "\n",
    "print('Visual of the chemical itself:')\n",
    "display(molToDraw)"
   ]
  },
  {
   "cell_type": "code",
   "execution_count": 213,
   "metadata": {},
   "outputs": [
    {
     "data": {
      "text/plain": [
       "<module 'functions' from './chemDM/model/functions.py'>"
      ]
     },
     "execution_count": 213,
     "metadata": {},
     "output_type": "execute_result"
    }
   ],
   "source": [
    "importlib.reload(functions)"
   ]
  },
  {
   "cell_type": "code",
   "execution_count": 214,
   "metadata": {},
   "outputs": [
    {
     "name": "stdout",
     "output_type": "stream",
     "text": [
      "data.device cpu\n"
     ]
    }
   ],
   "source": [
    "###Step 2: Convert the one hot representation to a latent vector:\n",
    "\n",
    "cinnamon_lpoint  = functions.selfies_to_lpoints(selfie_cinnamon, selfies_alphabet, largest_molecule_len, vae_encoder, lpoint_size)"
   ]
  },
  {
   "cell_type": "code",
   "execution_count": 216,
   "metadata": {},
   "outputs": [],
   "source": [
    "###Step 3: Decode the cinnamon latent vector\n",
    "\n",
    "cinnamon_smiles = functions.decode_lpoints(cinnamon_lpoint, selfies_alphabet, vae_decoder, largest_molecule_len)"
   ]
  },
  {
   "cell_type": "code",
   "execution_count": 217,
   "metadata": {},
   "outputs": [
    {
     "name": "stdout",
     "output_type": "stream",
     "text": [
      "cinnamon input: C1=CC=C(C=C1)C=CC=O cinnamon recreation: CN1C=C(C=C1)C(N)=O\n"
     ]
    }
   ],
   "source": [
    "print('cinnamon input:', smiles_input, 'cinnamon recreation:', cinnamon_smiles[0])"
   ]
  },
  {
   "cell_type": "markdown",
   "metadata": {},
   "source": [
    "***MLP:***"
   ]
  },
  {
   "cell_type": "code",
   "execution_count": 219,
   "metadata": {},
   "outputs": [
    {
     "data": {
      "text/plain": [
       "<All keys matched successfully>"
      ]
     },
     "execution_count": 219,
     "metadata": {},
     "output_type": "execute_result"
    }
   ],
   "source": [
    "# validate perceptron model\n",
    "mlp_path = './DM_chems/perceptron_folder/qm9_test/'\n",
    "mlp_epoch = 100\n",
    "\n",
    "mlp_settings = yaml.safe_load(open(str(mlp_path) + \"settings/\" + \"settings.yml\", \"r\"))\n",
    "model_params = mlp_settings['model_params']\n",
    "\n",
    "mlp_model = property_prediction_MLP.PropertyRegressionModel(**model_params).to(device)\n",
    "state_dict = torch.load(mlp_path + '/' + str(mlp_epoch) + '/model.pt', map_location='cpu')\n",
    "\n",
    "\n",
    "mlp_model.load_state_dict(state_dict)"
   ]
  },
  {
   "cell_type": "code",
   "execution_count": 220,
   "metadata": {},
   "outputs": [],
   "source": [
    "selfies_input = selfies_list[:10000]"
   ]
  },
  {
   "cell_type": "markdown",
   "metadata": {},
   "source": [
    "**Plotting the mean relative errors:**"
   ]
  },
  {
   "cell_type": "code",
   "execution_count": 221,
   "metadata": {},
   "outputs": [],
   "source": [
    "###Step 0: Decide what data you want to analyse\n",
    "\n",
    "#We will look at the first 10000 molecules\n",
    "\n",
    "val_int = int(0.8*len(selfies_list))"
   ]
  },
  {
   "cell_type": "code",
   "execution_count": 240,
   "metadata": {},
   "outputs": [],
   "source": [
    "###Step 1: Prepare the data as we have done in the prior sections\n",
    "\n",
    "\n",
    "torch_seed = vae_settings['data']['torch_seed']\n",
    "torch.manual_seed(torch_seed)\n",
    "rand_perms = torch.randperm(len(selfies_list))\n",
    "encoding_list = [selfies_list[x] for x in rand_perms]\n",
    "\n",
    "\n",
    "my_file = pd.read_csv(smiles_path, index_col=None)\n",
    "properties_tensor = functions.gen_properties_tensor(my_file)\n",
    "properties_tensor = properties_tensor[rand_perms]\n",
    "\n",
    "\n",
    "nan_tensor = (properties_tensor.squeeze().isnan() == False).nonzero().squeeze().to(torch.long)\n",
    "encoding_list = [encoding_list[x] for x in nan_tensor]\n",
    "properties_tensor = properties_tensor[nan_tensor]\n",
    "\n",
    "mus = functions.selfies_to_lpoints(encoding_list, selfies_alphabet, largest_molecule_len, vae_encoder, lpoint_size)\n",
    "\n",
    "train_properties_tensor = properties_tensor[:val_int]\n",
    "valid_properties_tensor = properties_tensor[val_int:]\n",
    "mus_train = mus[:val_int]\n",
    "mus_valid = mus[val_int:]\n"
   ]
  },
  {
   "cell_type": "code",
   "execution_count": 248,
   "metadata": {},
   "outputs": [],
   "source": [
    "###Step 2: Take the true HOMO-LUMO gaps and prepare the data\n",
    "\n",
    "\n",
    "sorted_props, props_index = torch.sort(valid_properties_tensor, dim=0)\n",
    "mus_ordered = mus_valid[props_index]"
   ]
  },
  {
   "cell_type": "code",
   "execution_count": 250,
   "metadata": {},
   "outputs": [],
   "source": [
    "###Step 3: Predict the HOMO-LUMO gaps\n",
    "\n",
    "\n",
    "mlp_model.eval()\n",
    "with torch.no_grad():\n",
    "    HL_predictions = mlp_model(mus_ordered.squeeze())"
   ]
  },
  {
   "cell_type": "code",
   "execution_count": 259,
   "metadata": {},
   "outputs": [
    {
     "name": "stdout",
     "output_type": "stream",
     "text": [
      "mse: tensor(0.0001) mae tensor(0.0082) r2 tensor(0.9444)\n"
     ]
    }
   ],
   "source": [
    "mse, mae, _, r2 = functions.stats(sorted_props,HL_predictions)\n",
    "\n",
    "print('mse:', mse, 'mae', mae, 'r2', r2)"
   ]
  },
  {
   "cell_type": "code",
   "execution_count": 253,
   "metadata": {},
   "outputs": [],
   "source": [
    "###Step 5: Prepare the data for plotting\n",
    "\n",
    "abs_dif = torch.sqrt((sorted_props-HL_predictions)**2)\n",
    "rel_dif = abs_dif/sorted_props\n",
    "\n",
    "preds_list = HL_predictions.squeeze().tolist()\n",
    "sorted_list = sorted_props.squeeze().tolist()\n",
    "abs_list = abs_dif.squeeze().tolist()\n",
    "rel_list = rel_dif.squeeze().tolist()"
   ]
  },
  {
   "cell_type": "code",
   "execution_count": 254,
   "metadata": {},
   "outputs": [],
   "source": [
    "\n",
    "segment_length = len(sorted_list) // 100\n",
    "\n",
    "homos = [np.mean(sorted_list[i * segment_length: (i + 1) * segment_length]) for i in range(100)]\n",
    "rels = [np.mean(rel_list[i * segment_length: (i + 1) * segment_length]) for i in range(100)]\n",
    "\n",
    "bins = 25\n",
    "\n",
    "seg_length = (max(sorted_list)-min(sorted_list))/bins\n",
    "props_bins = [min(sorted_props).item()+i*seg_length for i in range(bins)]"
   ]
  },
  {
   "cell_type": "code",
   "execution_count": 256,
   "metadata": {},
   "outputs": [
    {
     "name": "stderr",
     "output_type": "stream",
     "text": [
      "/users/sgccook2/.venv/lib64/python3.6/site-packages/numpy/core/fromnumeric.py:3373: RuntimeWarning: Mean of empty slice.\n",
      "  out=out, **kwargs)\n",
      "/users/sgccook2/.venv/lib64/python3.6/site-packages/numpy/core/_methods.py:170: RuntimeWarning: invalid value encountered in double_scalars\n",
      "  ret = ret.dtype.type(ret / rcount)\n",
      "posx and posy should be finite values\n",
      "posx and posy should be finite values\n"
     ]
    },
    {
     "data": {
      "image/png": "[encoded data removed]",
      "text/plain": [
       "<Figure size 1152x720 with 1 Axes>"
      ]
     },
     "metadata": {
      "needs_background": "light"
     },
     "output_type": "display_data"
    }
   ],
   "source": [
    "def autolabel(rects, counts):\n",
    "    for i in range(len(rects)):\n",
    "        height = rects[i].get_height()\n",
    "        plt.text(rects[i].get_x() + rects[i].get_width()/2., height , '%d' % int(counts[i]), ha='center', va='bottom')\n",
    "\n",
    "plt.figure(figsize=(16, 10))\n",
    "\n",
    "absolute_values = sorted_list[:(len(sorted_list)-1)]\n",
    "relative_errors = rel_list[:(len(sorted_list)-1)]\n",
    "bins = np.linspace(min(absolute_values), max(absolute_values), 20)  \n",
    "digitized = np.digitize(absolute_values, bins)\n",
    "unique_values, counts = np.unique(digitized, return_counts=True)\n",
    "\n",
    "mean_relative_errors = [np.mean(np.array(relative_errors)[digitized == i]) for i in range(1, len(bins))]\n",
    "unique_values, counts = np.unique(digitized, return_counts=True)\n",
    "\n",
    "# Create the bar plot\n",
    "bars = plt.bar(bins[:-1], mean_relative_errors, width=np.diff(bins), edgecolor='black', alpha=0.7)\n",
    "\n",
    "# Call the autolabel function to add labels above each bar\n",
    "autolabel(bars, counts)\n",
    "\n",
    "plt.xlabel('HOMO-LUMO gap (Ha)')\n",
    "plt.ylabel('Mean Relative Error')\n",
    "plt.title('Mean Relative Error for Binned Absolute HOMO-LUMO Gaps')\n",
    "\n",
    "# Show the plot\n",
    "plt.show()"
   ]
  },
  {
   "cell_type": "code",
   "execution_count": 257,
   "metadata": {},
   "outputs": [
    {
     "data": {
      "image/png": "[encoded data removed]",
      "text/plain": [
       "<Figure size 1152x720 with 1 Axes>"
      ]
     },
     "metadata": {
      "needs_background": "light"
     },
     "output_type": "display_data"
    }
   ],
   "source": [
    "plt.figure(figsize=(16, 10))\n",
    "\n",
    "homos[0] = homos[0] - min(sorted_list) \n",
    "homos[len(homos)-1] = homos[len(homos)-1] + max(sorted_list)\n",
    "bar_widths = np.diff(np.concatenate([homos, [homos[-1] + (homos[-1] - homos[-2])]]))\n",
    "\n",
    "plt.bar(homos, rels, width=bar_widths, alpha=0.7, align='edge')\n",
    "plt.xlabel('HOMO-LUMO Gap (Ha)')\n",
    "plt.ylabel('Mean relative error')\n",
    "plt.title('HOMO-LUMO Gap vs Relative Error')\n",
    "plt.xlim(min(sorted_list), max(sorted_list))\n",
    "plt.show()\n"
   ]
  },
  {
   "cell_type": "code",
   "execution_count": 258,
   "metadata": {},
   "outputs": [
    {
     "data": {
      "image/png": "[encoded data removed]",
      "text/plain": [
       "<Figure size 1152x720 with 1 Axes>"
      ]
     },
     "metadata": {
      "needs_background": "light"
     },
     "output_type": "display_data"
    }
   ],
   "source": [
    "plt.figure(figsize=(16, 10))\n",
    "\n",
    "\n",
    "# Calculate the width of each bar based on some criteria (replace this with your own logic)\n",
    "bar_widths = np.diff(np.concatenate([homos, [homos[-1] + (homos[-1] - homos[-2])]]))\n",
    "homos[0] = homos[0] - min(sorted_list) \n",
    "homos[len(homos)-1] = homos[len(homos)-1] + max(sorted_list)\n",
    "bar_widths[0] = homos[1] - homos[0]\n",
    "\n",
    "# Plot the bars with variable widths\n",
    "plt.bar(homos, rels, width=bar_widths, alpha=0.7, align='edge')\n",
    "\n",
    "# Add labels and title\n",
    "plt.xlabel('HOMO-LUMO Gap (Ha)')\n",
    "plt.ylabel('Mean relative error')\n",
    "plt.title('HOMO-LUMO Gap vs Relative Error')\n",
    "plt.xlim(min(sorted_list), max(sorted_list))\n",
    "\n",
    "# Show the plot\n",
    "plt.show()"
   ]
  },
  {
   "cell_type": "code",
   "execution_count": null,
   "metadata": {},
   "outputs": [],
   "source": []
  }
 ],
 "metadata": {
  "kernelspec": {
   "display_name": "Python 3",
   "language": "python",
   "name": "python3"
  },
  "language_info": {
   "codemirror_mode": {
    "name": "ipython",
    "version": 3
   },
   "file_extension": ".py",
   "mimetype": "text/x-python",
   "name": "python",
   "nbconvert_exporter": "python",
   "pygments_lexer": "ipython3",
   "version": "3.6.8"
  }
 },
 "nbformat": 4,
 "nbformat_minor": 2
}
