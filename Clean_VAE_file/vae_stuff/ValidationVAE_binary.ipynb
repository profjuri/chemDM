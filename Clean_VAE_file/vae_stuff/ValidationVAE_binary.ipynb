{
 "cells": [
  {
   "cell_type": "code",
   "execution_count": 26,
   "metadata": {},
   "outputs": [],
   "source": [
    "import chemistry_vae_selfies\n",
    "import data_loader\n",
    "import selfies\n",
    "import torch\n",
    "import importlib\n",
    "import yaml\n",
    "import pandas as pd\n",
    "import numpy as np\n",
    "import torch.distributions as dist\n",
    "import matplotlib.pyplot as plt\n",
    "import networkx as nx\n",
    "from pysmiles import read_smiles\n",
    "from rdkit import Chem\n",
    "from rdkit.Chem import rdFingerprintGenerator\n",
    "from rdkit import DataStructs\n",
    "import auxiliary_functions as af\n",
    "import importlib\n",
    "import binary_loader"
   ]
  },
  {
   "cell_type": "code",
   "execution_count": 3,
   "metadata": {},
   "outputs": [
    {
     "data": {
      "text/plain": [
       "<module 'auxiliary_functions' from '/users/sgccook3/DM_chems/VAE_sandbox/auxiliary_functions.py'>"
      ]
     },
     "execution_count": 3,
     "metadata": {},
     "output_type": "execute_result"
    }
   ],
   "source": [
    "importlib.reload(af) \n"
   ]
  },
  {
   "cell_type": "code",
   "execution_count": 5,
   "metadata": {},
   "outputs": [
    {
     "name": "stdout",
     "output_type": "stream",
     "text": [
      "{'H': 1, 'F': 1, 'Cl': 1, 'Br': 1, 'I': 1, 'B': 3, 'B+1': 2, 'B-1': 4, 'O': 2, 'O+1': 3, 'O-1': 1, 'N': 3, 'N+1': 4, 'N-1': 2, 'C': 4, 'C+1': 5, 'C-1': 3, 'P': 5, 'P+1': 6, 'P-1': 4, 'S': 6, 'S+1': 7, 'S-1': 5, '?': 8}\n",
      "--> Translating SMILES to SELFIES...\n",
      "Finished translating SMILES to SELFIES.\n"
     ]
    }
   ],
   "source": [
    "# here we want to read in data and tranform them into one_hot\n",
    "device = torch.device(\"cuda\" if torch.cuda.is_available() else \"cpu\")\n",
    "\n",
    "folder_path = \"./datasets/\"\n",
    "file_name = \"SelectedSMILES_QM9.txt\"\n",
    "\n",
    "full_path = folder_path + file_name\n",
    "\n",
    "selfies_list, selfies_alphabet, largest_selfies_len, smiles_list, smiles_alphabet, largest_smiles_len = chemistry_vae_selfies.get_selfie_and_smiles_encodings_for_dataset(full_path)\n"
   ]
  },
  {
   "cell_type": "code",
   "execution_count": 7,
   "metadata": {},
   "outputs": [],
   "source": [
    "# define source file location\n",
    "file_to_load =  \"../selfies_saved_models_binary/lr_0.002427375401692564_KLD_0.007/\"\n",
    "# training file name encoder\n",
    "training_file_nameE = \"100/E\"\n",
    "# training file name decoder\n",
    "training_file_nameD = \"100/D\"\n",
    "# load data\n",
    "#load_data_trained = file_to_load + training_file_nameE\n",
    "# Alphabet has 18 letters, largest molecule is 21 letters. (build this as an output function later ... )\n",
    "largest_selfies_len_dataset = largest_selfies_len\n",
    "largest_smiles_len_dataset = largest_smiles_len\n",
    "\n",
    "#in_dimension = len(selfies_alphabet)*largest_selfies_len\n",
    "in_dimension = len(smiles_alphabet)*largest_smiles_len\n",
    "\n",
    "\n",
    "\n",
    "# load the trained encoder\n",
    "vae_encoder = torch.load(file_to_load + training_file_nameE, map_location=torch.device('cpu')) #, map_location=torch.device(device=\"cpu\"))\n",
    "#print(vae_encoder)\n",
    "\n",
    "# load the trained decoder\n",
    "vae_decoder = torch.load(file_to_load + training_file_nameD, map_location=torch.device('cpu')) #, map_location=torch.device(device=\"cpu\"))\n",
    "#print(vae_decoder)"
   ]
  },
  {
   "cell_type": "code",
   "execution_count": 8,
   "metadata": {},
   "outputs": [],
   "source": [
    "selfies_alphabet = [\n",
    "    \"[N]\",\n",
    "    \"[O]\",\n",
    "    \"[=N]\",\n",
    "    \"[#Branch1]\",\n",
    "    \"[Branch2]\",\n",
    "    \"[=Branch2]\",\n",
    "    \"[Branch1]\",\n",
    "    \"[#Branch2]\",\n",
    "    \"[nop]\",\n",
    "    \"[=O]\",\n",
    "    \"[Ring2]\",\n",
    "    \"[Ring1]\",\n",
    "    \"[=C]\",\n",
    "    \"[C]\",\n",
    "    \"[#C]\",\n",
    "    \"[#N]\",\n",
    "    \"[F]\",\n",
    "    \"[=Branch1]\"\n",
    "]"
   ]
  },
  {
   "cell_type": "code",
   "execution_count": 55,
   "metadata": {},
   "outputs": [],
   "source": [
    "selfies_binary_list, _ = binary_loader.multiple_smile_to_binary(selfies_list, largest_selfies_len)"
   ]
  },
  {
   "cell_type": "code",
   "execution_count": 129,
   "metadata": {},
   "outputs": [
    {
     "name": "stdout",
     "output_type": "stream",
     "text": [
      "C\n"
     ]
    }
   ],
   "source": [
    "test_num = 0\n",
    "\n",
    "selfie_input = selfies_list[test_num]\n",
    "print(selfies.decoder(selfie_input))\n",
    "\n",
    "\n"
   ]
  },
  {
   "cell_type": "code",
   "execution_count": 130,
   "metadata": {},
   "outputs": [],
   "source": [
    "test_input = selfies_binary_list[test_num]"
   ]
  },
  {
   "cell_type": "code",
   "execution_count": 131,
   "metadata": {},
   "outputs": [
    {
     "name": "stdout",
     "output_type": "stream",
     "text": [
      "torch.Size([1, 645])\n",
      "tensor([[[-0.5029, -0.7340,  0.7860,  0.4357, -1.2407,  0.0546,  0.6451,\n",
      "           0.2072, -0.4304,  0.4663,  1.6367, -2.1132, -0.5139,  1.0664,\n",
      "           0.6666,  1.7305, -0.0077,  0.6881, -0.0481, -0.0312, -0.3129,\n",
      "           1.3948,  0.5233, -1.0120, -0.1010, -0.3778, -1.8928, -0.6927,\n",
      "          -1.0148,  0.6274, -0.6123, -0.2635, -0.2069, -0.8254, -0.5584,\n",
      "          -0.1548,  0.3399, -1.5148,  1.2473,  0.2283,  0.8296, -0.1002,\n",
      "           0.2228,  1.0971, -0.1974, -1.1667,  0.4198, -0.4822,  0.2551,\n",
      "           0.6701]]], grad_fn=<UnsqueezeBackward0>)\n"
     ]
    }
   ],
   "source": [
    "\n",
    "x = torch.tensor(test_input)\n",
    "\n",
    "x = x.view(1, -1).float()\n",
    "\n",
    "print(x.size())\n",
    "\n",
    "z =set()\n",
    "vae_encoder.eval()\n",
    "vae_decoder.eval()\n",
    "z, mu, log_var = vae_encoder(x)\n",
    "\n",
    "print(z.unsqueeze(0))"
   ]
  },
  {
   "cell_type": "code",
   "execution_count": 132,
   "metadata": {},
   "outputs": [],
   "source": [
    "checker1 =  af.decode_from_latentspace(vae_encoder, vae_decoder, z.unsqueeze(0), largest_smiles_len, len(selfies_alphabet), 1)\n"
   ]
  },
  {
   "cell_type": "code",
   "execution_count": 133,
   "metadata": {},
   "outputs": [
    {
     "name": "stdout",
     "output_type": "stream",
     "text": [
      "[tensor([[0]]), tensor([[1]]), tensor([[0]]), tensor([[0]]), tensor([[0]]), tensor([[0]]), tensor([[0]]), tensor([[0]]), tensor([[0]]), tensor([[0]]), tensor([[0]]), tensor([[0]]), tensor([[0]]), tensor([[0]]), tensor([[0]]), tensor([[0]]), tensor([[0]]), tensor([[0]]), tensor([[0]]), tensor([[2]]), tensor([[0]]), tensor([[0]])]\n"
     ]
    }
   ],
   "source": [
    "print(checker1)"
   ]
  },
  {
   "cell_type": "code",
   "execution_count": 134,
   "metadata": {},
   "outputs": [
    {
     "name": "stdout",
     "output_type": "stream",
     "text": [
      "[N][O][N][N][N][N][N][N][N][N][N][N][N][N][N][N][N][N][N][=N][N][N]\n"
     ]
    }
   ],
   "source": [
    "selfie_from_latent_space = af.translate_selfie(checker1,selfies_alphabet)\n",
    "\n",
    "print(selfie_from_latent_space)\n"
   ]
  },
  {
   "cell_type": "code",
   "execution_count": 135,
   "metadata": {},
   "outputs": [
    {
     "data": {
      "image/png": "[encoded data removed]",
      "text/plain": [
       "<rdkit.Chem.rdchem.Mol at 0x7f3768e9db70>"
      ]
     },
     "metadata": {},
     "output_type": "display_data"
    }
   ],
   "source": [
    "# Read the SMILES string\n",
    "\n",
    "\n",
    "\n",
    "\n",
    "selfie_input = selfies.encoder('COC(=O)C1=CC=C(C=C1)O')\n",
    "\n",
    "selfie_input = selfies.encoder('OC(=O)C1=CC=C(C=C1)O')\n",
    "\n",
    "selfie_input = selfies.encoder('C(=O)C1=C(C=C1)')\n",
    "\n",
    "selfie_input = selfies_list[test_num]\n",
    "\n",
    "molGood = Chem.MolFromSmiles(selfies.decoder(selfie_input))\n",
    "\n",
    "display(molGood)"
   ]
  },
  {
   "cell_type": "code",
   "execution_count": 136,
   "metadata": {},
   "outputs": [
    {
     "data": {
      "image/png": "[encoded data removed]",
      "text/plain": [
       "<rdkit.Chem.rdchem.Mol at 0x7f3768f1f940>"
      ]
     },
     "metadata": {},
     "output_type": "display_data"
    }
   ],
   "source": [
    "mol_test = Chem.MolFromSmiles(selfies.decoder(selfie_from_latent_space))\n",
    "\n",
    "display(mol_test)"
   ]
  }
 ],
 "metadata": {
  "kernelspec": {
   "display_name": ".venv",
   "language": "python",
   "name": "python3"
  },
  "language_info": {
   "codemirror_mode": {
    "name": "ipython",
    "version": 3
   },
   "file_extension": ".py",
   "mimetype": "text/x-python",
   "name": "python",
   "nbconvert_exporter": "python",
   "pygments_lexer": "ipython3",
   "version": "3.6.8"
  },
  "orig_nbformat": 4
 },
 "nbformat": 4,
 "nbformat_minor": 2
}
